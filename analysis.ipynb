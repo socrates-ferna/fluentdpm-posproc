{
 "cells": [
  {
   "cell_type": "code",
   "execution_count": null,
   "metadata": {},
   "outputs": [],
   "source": [
    "import readers\n",
    "from functions import plotagainstparam, read_results, build, percentage, barplot, buildacrossdict\n",
    "import pandas as pd\n",
    "import numpy as np\n",
    "import csv\n",
    "import matplotlib.pyplot as plt"
   ]
  },
  {
   "cell_type": "markdown",
   "metadata": {},
   "source": [
    "### README\n",
    "- You have a cell to execute and print the documentation of most important functions you need at the bottom of the notebook\n",
    "- Examples on how to acces the data (with the output they give) at the bottom of the notebook also"
   ]
  },
  {
   "cell_type": "markdown",
   "metadata": {},
   "source": [
    "# Parameter lists for every person (modify if necessary)"
   ]
  },
  {
   "cell_type": "code",
   "execution_count": null,
   "metadata": {
    "tags": []
   },
   "outputs": [],
   "source": [
    "#Parameter lists\n",
    "distance = ['back','4back','2teacher','4teacher']                      #Adrián\n",
    "renewalshour = [2,3,4,8]                                               #Vighnesh\n",
    "roomtemp = [23,27]                                                     #Ronghao\n",
    "exposuretime = [60,120,240,480]                                        #Yibing\n",
    "masktype = ['wall','cotton','N95']                                     #Malo\n",
    "maskNumber = ['one','all']                                             #Malo\n",
    "ncoughpeople = ['back','back+teach','front+teach','sides+teach','all'] #Sócrates\n",
    "caseAdri = 'distance'\n",
    "caseVig = 'ventilation'\n",
    "caseRong = 'temp'\n",
    "caseYib = 'student'\n",
    "caseMal = 'maskType'\n",
    "caseMal2 = 'maskNumber'\n",
    "caseSoc = 'npeople'"
   ]
  },
  {
   "cell_type": "markdown",
   "metadata": {},
   "source": [
    "# ------------------------------------------------"
   ]
  },
  {
   "cell_type": "code",
   "execution_count": null,
   "metadata": {},
   "outputs": [],
   "source": [
    "def matchallnames(tdict,mdict,zns,parameter):\n",
    "    for elem in parameter:\n",
    "        tdict[elem],matchlist = readers.matchnames(zns[elem],tdict[elem])\n",
    "        print('timesdict name substitution ' + str(elem))\n",
    "        #print(matchlist)\n",
    "        mdict[elem],matchlist = readers.matchnames(zns[elem],mdict[elem])\n",
    "        print('massdict name substitution ' + str(elem))\n",
    "        #print(matchlist)"
   ]
  },
  {
   "cell_type": "markdown",
   "metadata": {},
   "source": [
    "##### Load data with your casename and your parameter"
   ]
  },
  {
   "cell_type": "code",
   "execution_count": null,
   "metadata": {
    "scrolled": true,
    "tags": []
   },
   "outputs": [],
   "source": [
    "zones,timesdict,massdict,totalsdict = build(caseSoc,ncoughpeople)\n",
    "matchallnames(timesdict,massdict,zones,ncoughpeople)"
   ]
  },
  {
   "cell_type": "markdown",
   "metadata": {},
   "source": [
    "### Calculate percentage of total particles and of total mass for each fate"
   ]
  },
  {
   "cell_type": "code",
   "execution_count": null,
   "metadata": {},
   "outputs": [],
   "source": [
    "for key,item in timesdict.items():\n",
    "    #we cannot use item as the dataframe to which apply the operation because item is a copy of the actual dataframe inside the dict\n",
    "    timesdict[key] = percentage(timesdict[key],'Number','Particles',totalsdict[key])\n",
    "    timesdict[key].sort_index(axis=0,level='flowtime',inplace=True)\n",
    "for key,item in massdict.items():\n",
    "    massdict[key] = percentage(massdict[key],'Final','Mass',totalsdict[key])\n",
    "    massdict[key].sort_index(axis=0,level='flowtime',inplace=True)\n",
    "for key,item in totalsdict.items():\n",
    "    totalsdict[key].sort_index(axis=0,level='flowtime',inplace=True)\n",
    "#For single parameter element:\n",
    "#timesdict['2m'] = percentage(timesdict['2m'],'Number','Particles',totalsdict['2m'])\n",
    "#massdict['2m'] = percentage(massdict['2m'],'Final','Mass',totalsdict['2m'])"
   ]
  },
  {
   "cell_type": "code",
   "execution_count": null,
   "metadata": {},
   "outputs": [],
   "source": [
    "plotagainstparam(timesdict,'Particles %','Trapped',40,'Trapped')\n",
    "plotagainstparam(timesdict,'Particles %','Fluid',40,'in Fluid')\n",
    "plt.legend()\n",
    "plt.title('Trapped particles in %')"
   ]
  },
  {
   "cell_type": "markdown",
   "metadata": {},
   "source": [
    "## BAR PLOT EXAMPLE\n",
    "### --------------------------------------"
   ]
  },
  {
   "cell_type": "code",
   "execution_count": null,
   "metadata": {},
   "outputs": [],
   "source": [
    "fates = ['desk','student','inFluid','Escaped']\n",
    "x = np.arange(len(timesdict.keys()))\n",
    "instant = 60\n",
    "fix,ax,handles,bars = barplot(timesdict,'Particles %',instant,fates)\n",
    "ax.set_xticks(x)\n",
    "ax.set_xticklabels(timesdict.keys())\n",
    "ax.set_ylabel('Particles %')\n",
    "ax.set_title('Fate of particles at t=' + str(instant))\n",
    "ax.legend()\n",
    "plt.savefig('testbar.png',dpi=250)"
   ]
  },
  {
   "cell_type": "code",
   "execution_count": null,
   "metadata": {},
   "outputs": [],
   "source": [
    "bars"
   ]
  },
  {
   "cell_type": "code",
   "execution_count": null,
   "metadata": {
    "scrolled": true
   },
   "outputs": [],
   "source": [
    "timesdict['sides+teach'].loc[60]"
   ]
  },
  {
   "cell_type": "markdown",
   "metadata": {},
   "source": [
    "## Time Evolution plot\n",
    "## -----------------------------"
   ]
  },
  {
   "cell_type": "code",
   "execution_count": null,
   "metadata": {},
   "outputs": [],
   "source": [
    "timesdict['front+teach'].loc[30]"
   ]
  },
  {
   "cell_type": "code",
   "execution_count": null,
   "metadata": {},
   "outputs": [],
   "source": [
    "keys = list(timesdict.keys())\n",
    "fates = ['Fluid','desk','student','floor','teacher']\n",
    "for key,df in timesdict.items():\n",
    "    plt.figure()\n",
    "    for f in fates:\n",
    "        filtsum = timesdict[key]['Particles %'].loc[timesdict[key].Fate.str.contains(fr\"{f}\",regex=True)].sum(axis=0,level='flowtime').reset_index(level='flowtime')\n",
    "        plt.plot('flowtime','Particles %',data=filtsum,label=f)\n",
    "    plt.title(key + ' time evolution')\n",
    "    plt.xlabel('flow time')\n",
    "    plt.ylabel('Particles %')\n",
    "    plt.legend()"
   ]
  },
  {
   "cell_type": "markdown",
   "metadata": {},
   "source": [
    "### Pendiente/Propuestas (sorry, Spanish)\n",
    "\n",
    "- Varios ejemplos de cómo acceder a los datos /loopear por ellos\n",
    "- Celda que imprima las superficies del parámetro\n",
    "- Matchnames debe conservar el estatus de Escaped/Trapped DONE\n",
    "- opción de latest instant en plotagainstparam\n",
    "- plotear columna contra el tiempo para un parámetro y escribe el for para recorrer el dict\n",
    "- bar plot against param DONE (poorly tested yet)\n",
    "- quita el xlabel y tal DONE\n",
    "- ejemplo de guardado de figuras DONE\n",
    "- testea que pa varias injections funciona DONE"
   ]
  },
  {
   "cell_type": "markdown",
   "metadata": {},
   "source": [
    "# EXAMPLES ON HOW TO ACCESS THE DATA (pending):"
   ]
  },
  {
   "cell_type": "code",
   "execution_count": null,
   "metadata": {},
   "outputs": [],
   "source": [
    "timesdict['sides+teach'].loc[timesdict['sides+teach'].Fate.str.contains(fr\"desk\",regex=True)]"
   ]
  },
  {
   "cell_type": "code",
   "execution_count": null,
   "metadata": {},
   "outputs": [],
   "source": [
    "timesdict['4m']"
   ]
  },
  {
   "cell_type": "code",
   "execution_count": null,
   "metadata": {},
   "outputs": [],
   "source": [
    "timesdict['2m']"
   ]
  },
  {
   "cell_type": "code",
   "execution_count": null,
   "metadata": {},
   "outputs": [],
   "source": [
    "massdict['2m']"
   ]
  },
  {
   "cell_type": "code",
   "execution_count": null,
   "metadata": {},
   "outputs": [],
   "source": [
    "totalsdict"
   ]
  },
  {
   "cell_type": "code",
   "execution_count": null,
   "metadata": {},
   "outputs": [],
   "source": [
    "massdict"
   ]
  },
  {
   "cell_type": "code",
   "execution_count": null,
   "metadata": {},
   "outputs": [],
   "source": [
    "massdict['4m']['Mass %']"
   ]
  },
  {
   "cell_type": "code",
   "execution_count": null,
   "metadata": {},
   "outputs": [],
   "source": [
    "timesdict['2m'].loc[0.6,'Particles %']"
   ]
  },
  {
   "cell_type": "markdown",
   "metadata": {},
   "source": [
    "### Print several documentations (out of date though)"
   ]
  },
  {
   "cell_type": "code",
   "execution_count": null,
   "metadata": {},
   "outputs": [],
   "source": [
    "print('READ_RESULTS INSTRUCTIONS')\n",
    "print('----------------------------------------------')\n",
    "print(read_results.__doc__)\n",
    "print('-----------------------------------------------')\n",
    "print('')\n",
    "print('PERCENTAGE INSTRUCTIONS')\n",
    "print('----------------------------------------------')\n",
    "print(percentage.__doc__)\n",
    "print('-----------------------------------------------')\n",
    "print('')\n",
    "print('PLOT AGAINST PARAM INSTRUCTIONS')\n",
    "print('----------------------------------------------')\n",
    "print(plotagainstparam.__doc__)\n",
    "print('MATCHNAMES INSTRUCTIONS')\n",
    "print('----------------------------------------------')\n",
    "print(readers.matchnames.__doc__)"
   ]
  }
 ],
 "metadata": {
  "kernelspec": {
   "display_name": "Python 3",
   "language": "python",
   "name": "python3"
  },
  "language_info": {
   "codemirror_mode": {
    "name": "ipython",
    "version": 3
   },
   "file_extension": ".py",
   "mimetype": "text/x-python",
   "name": "python",
   "nbconvert_exporter": "python",
   "pygments_lexer": "ipython3",
   "version": "3.9.3"
  }
 },
 "nbformat": 4,
 "nbformat_minor": 4
}
