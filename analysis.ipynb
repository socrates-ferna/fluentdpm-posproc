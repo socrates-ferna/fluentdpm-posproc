{
 "cells": [
  {
   "cell_type": "code",
   "execution_count": null,
   "metadata": {},
   "outputs": [],
   "source": [
    "import readers\n",
    "import functions\n",
    "import pandas as pd\n",
    "import numpy as np\n",
    "import csv\n",
    "import matplotlib.pyplot as plt"
   ]
  },
  {
   "cell_type": "markdown",
   "metadata": {},
   "source": [
    "# Parameter lists for every person (modify if necessary)"
   ]
  },
  {
   "cell_type": "code",
   "execution_count": null,
   "metadata": {
    "tags": []
   },
   "outputs": [],
   "source": [
    "#Parameter lists\n",
    "distance = ['back','4back','2teacher','4teacher']                      #Adrián\n",
    "renewalshour = [2,3,4,8]                                               #Vighnesh\n",
    "roomtemp = [23,27]                                                     #Ronghao\n",
    "exposuretime = [60,120,240,480]                                        #Yibing\n",
    "masktype = ['wall','cotton','N95']                                     #Malo\n",
    "maskNumber = ['one','all']                                             #Malo\n",
    "ncoughpeople = ['back','back+teach','front+teach','sides+teach','all'] #Sócrates\n",
    "caseAdri = 'distance'\n",
    "caseVig = 'ventilation'\n",
    "caseRong = 'temp'\n",
    "caseYib = 'student'\n",
    "caseMal = 'maskType'\n",
    "caseMal2 = 'maskNumber'\n",
    "caseSoc = 'npeople'"
   ]
  },
  {
   "cell_type": "markdown",
   "metadata": {},
   "source": [
    "# ------------------------------------------------"
   ]
  },
  {
   "cell_type": "markdown",
   "metadata": {},
   "source": [
    "##### Load data with your casename and your parameter"
   ]
  },
  {
   "cell_type": "code",
   "execution_count": null,
   "metadata": {
    "scrolled": true,
    "tags": []
   },
   "outputs": [],
   "source": [
    "zones,timesdict,massdict,totalsdict = functions.build(caseSoc,ncoughpeople)\n",
    "functions.matchallnames(timesdict,massdict,zones,ncoughpeople)"
   ]
  },
  {
   "cell_type": "markdown",
   "metadata": {},
   "source": [
    "### Calculate % of total particles and % of total mass for each fate. New columns are 'Particles %' and 'Mass %'"
   ]
  },
  {
   "cell_type": "code",
   "execution_count": null,
   "metadata": {},
   "outputs": [],
   "source": [
    "for key,item in timesdict.items():\n",
    "    #we cannot use item as the dataframe to which apply the operation because item is a copy of the actual dataframe inside the dict\n",
    "    timesdict[key] = functions.percentage(timesdict[key],'Number','Particles',totalsdict[key])\n",
    "    timesdict[key].sort_index(axis=0,level='flowtime',inplace=True)\n",
    "for key,item in massdict.items():\n",
    "    massdict[key] = functions.percentage(massdict[key],'Final','Mass',totalsdict[key])\n",
    "    massdict[key].sort_index(axis=0,level='flowtime',inplace=True)\n",
    "for key,item in totalsdict.items():\n",
    "    totalsdict[key].sort_index(axis=0,level='flowtime',inplace=True)\n",
    "#For single parameter element:\n",
    "#timesdict['2m'] = percentage(timesdict['2m'],'Number','Particles',totalsdict['2m'])\n",
    "#massdict['2m'] = percentage(massdict['2m'],'Final','Mass',totalsdict['2m'])"
   ]
  },
  {
   "cell_type": "markdown",
   "metadata": {},
   "source": [
    "### Export the state at a chosen instant to LaTeX table. \n",
    "Default number format is 2 decimals. If you need to change it do it inside functions.py or tell me"
   ]
  },
  {
   "cell_type": "code",
   "execution_count": null,
   "metadata": {},
   "outputs": [],
   "source": [
    "toprintcolumns = ['Fate','Number','Particles %']\n",
    "instant = 60\n",
    "#pass whatever instant and list of columns to instant_to_latex\n",
    "functions.instant_to_latex(timesdict,toprintcolumns,instant)"
   ]
  },
  {
   "cell_type": "markdown",
   "metadata": {},
   "source": [
    "### Drop a given list of matches (default is floor surfs, mouths, Escaped)\n",
    "Returns the filtered dictionary"
   ]
  },
  {
   "cell_type": "code",
   "execution_count": null,
   "metadata": {},
   "outputs": [],
   "source": [
    "filterstrings = ['mouth','Trapped '+r'floor\\d{1,2}','Escaped']\n",
    "newtimesdict = functions.dropfates(timesdict,filterstrings) #drops all mouths, Escaped and floor surfaces (keeps non-floor zones labeled with floor in their name)"
   ]
  },
  {
   "cell_type": "markdown",
   "metadata": {},
   "source": [
    "### Plot against parameter"
   ]
  },
  {
   "cell_type": "code",
   "execution_count": null,
   "metadata": {},
   "outputs": [],
   "source": [
    "functions.plotagainstparam(timesdict,'Particles %','Trapped',40,'Trapped')\n",
    "functions.plotagainstparam(timesdict,'Particles %','Fluid',40,'in Fluid')\n",
    "plt.legend()\n",
    "plt.title('Trapped particles in %')"
   ]
  },
  {
   "cell_type": "markdown",
   "metadata": {},
   "source": [
    "## BAR PLOT EXAMPLE\n",
    "### --------------------------------------"
   ]
  },
  {
   "cell_type": "code",
   "execution_count": null,
   "metadata": {},
   "outputs": [],
   "source": [
    "fates = ['desk','student','inFluid','Escaped']\n",
    "x = np.arange(len(timesdict.keys()))\n",
    "instant = 60\n",
    "fix,ax,handles,bars = functions.barplot(timesdict,'Particles %',instant,fates)\n",
    "ax.set_xticks(x)\n",
    "ax.set_xticklabels(timesdict.keys())\n",
    "ax.set_ylabel('Particles %')\n",
    "ax.set_title('Fate of particles at t=' + str(instant))\n",
    "ax.legend()\n",
    "plt.savefig('testbar.png',dpi=250)"
   ]
  },
  {
   "cell_type": "markdown",
   "metadata": {},
   "source": [
    "## Time Evolution plot\n",
    "## -----------------------------"
   ]
  },
  {
   "cell_type": "code",
   "execution_count": null,
   "metadata": {},
   "outputs": [],
   "source": [
    "fates = ['Fluid','desk','teacher','student']\n",
    "functions.plotagainsttime(timesdict,fates)"
   ]
  },
  {
   "cell_type": "code",
   "execution_count": null,
   "metadata": {},
   "outputs": [],
   "source": [
    "fates = ['Fluid','Trapped']\n",
    "functions.plotagainsttime(newtimesdict,fates)"
   ]
  },
  {
   "cell_type": "markdown",
   "metadata": {},
   "source": [
    "### Other things"
   ]
  },
  {
   "cell_type": "code",
   "execution_count": null,
   "metadata": {},
   "outputs": [],
   "source": [
    "fates = timesdict['back+teach'].loc[60,'Fate'].append(timesdict['sides+teach'].loc[60,'Fate'],ignore_index=True).drop_duplicates()"
   ]
  },
  {
   "cell_type": "code",
   "execution_count": null,
   "metadata": {},
   "outputs": [],
   "source": [
    "timesdict['front+teach'].index"
   ]
  },
  {
   "cell_type": "code",
   "execution_count": null,
   "metadata": {
    "scrolled": true
   },
   "outputs": [],
   "source": [
    "column_across_param(timesdict,'Number',60)"
   ]
  },
  {
   "cell_type": "markdown",
   "metadata": {},
   "source": [
    "# EXAMPLES ON HOW TO ACCESS THE DATA (pending):"
   ]
  },
  {
   "cell_type": "code",
   "execution_count": null,
   "metadata": {},
   "outputs": [],
   "source": [
    "timesdict['sides+teach'].loc[timesdict['sides+teach'].Fate.str.contains(fr\"desk\",regex=True)]"
   ]
  },
  {
   "cell_type": "code",
   "execution_count": null,
   "metadata": {},
   "outputs": [],
   "source": [
    "massdict['2m']"
   ]
  },
  {
   "cell_type": "code",
   "execution_count": null,
   "metadata": {},
   "outputs": [],
   "source": [
    "totalsdict"
   ]
  },
  {
   "cell_type": "code",
   "execution_count": null,
   "metadata": {},
   "outputs": [],
   "source": [
    "massdict['4m']['Mass %']"
   ]
  },
  {
   "cell_type": "code",
   "execution_count": null,
   "metadata": {},
   "outputs": [],
   "source": [
    "timesdict['2m'].loc[0.6,'Particles %']"
   ]
  },
  {
   "cell_type": "markdown",
   "metadata": {},
   "source": [
    "### Print several documentations (out of date though)"
   ]
  },
  {
   "cell_type": "code",
   "execution_count": null,
   "metadata": {},
   "outputs": [],
   "source": [
    "print('READ_RESULTS INSTRUCTIONS')\n",
    "print('----------------------------------------------')\n",
    "print(read_results.__doc__)\n",
    "print('-----------------------------------------------')\n",
    "print('')\n",
    "print('PERCENTAGE INSTRUCTIONS')\n",
    "print('----------------------------------------------')\n",
    "print(percentage.__doc__)\n",
    "print('-----------------------------------------------')\n",
    "print('')\n",
    "print('PLOT AGAINST PARAM INSTRUCTIONS')\n",
    "print('----------------------------------------------')\n",
    "print(plotagainstparam.__doc__)\n",
    "print('MATCHNAMES INSTRUCTIONS')\n",
    "print('----------------------------------------------')\n",
    "print(readers.matchnames.__doc__)"
   ]
  }
 ],
 "metadata": {
  "kernelspec": {
   "display_name": "Python 3",
   "language": "python",
   "name": "python3"
  },
  "language_info": {
   "codemirror_mode": {
    "name": "ipython",
    "version": 3
   },
   "file_extension": ".py",
   "mimetype": "text/x-python",
   "name": "python",
   "nbconvert_exporter": "python",
   "pygments_lexer": "ipython3",
   "version": "3.9.3"
  }
 },
 "nbformat": 4,
 "nbformat_minor": 4
}
