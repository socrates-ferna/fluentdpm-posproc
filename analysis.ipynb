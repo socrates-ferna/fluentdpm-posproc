{
 "cells": [
  {
   "cell_type": "code",
   "execution_count": 1,
   "metadata": {},
   "outputs": [],
   "source": [
    "import readers\n",
    "import functions\n",
    "import pandas as pd\n",
    "import numpy as np\n",
    "import csv\n",
    "import matplotlib.pyplot as plt\n",
    "from importlib import reload\n",
    "#if is_changed(functions)"
   ]
  },
  {
   "cell_type": "markdown",
   "metadata": {},
   "source": [
    "#### Execute the cell below to reload changes done in module functions without restarting the kernel"
   ]
  },
  {
   "cell_type": "code",
   "execution_count": 2,
   "metadata": {},
   "outputs": [
    {
     "data": {
      "text/plain": [
       "<module 'functions' from 'G:\\\\UNI\\\\MSc\\\\GDP\\\\FULL_ROOM\\\\sum 2\\\\functions.py'>"
      ]
     },
     "execution_count": 2,
     "metadata": {},
     "output_type": "execute_result"
    }
   ],
   "source": [
    "reload(functions)\n",
    "#reload(readers)"
   ]
  },
  {
   "cell_type": "markdown",
   "metadata": {},
   "source": [
    "# Parameter lists for every person (modify if necessary)"
   ]
  },
  {
   "cell_type": "code",
   "execution_count": 3,
   "metadata": {
    "tags": []
   },
   "outputs": [],
   "source": [
    "#Parameter lists\n",
    "distance = ['2student','4student','2teacher','4teacher']                      #Adrián\n",
    "renewalshour = [2,3,4,8]                                               #Vighnesh\n",
    "roomtemp = [19,23,27]                                                  #Ronghao\n",
    "exposuretime = ['60s','120s','240s','480s']                            #Yibing\n",
    "masktype = ['wall','cotton','N95']                                     #Malo\n",
    "maskNumber = ['one','all']                                             #Malo\n",
    "ncoughpeople = ['back','back+teach','front+teach','sides+teach','all'] #Sócrates\n",
    "caseAdri = 'distance'\n",
    "caseVig = 'ventilation'\n",
    "caseRong = 'temp'\n",
    "caseYib = 'student'\n",
    "caseMal = 'maskType'\n",
    "caseMal2 = 'maskNumber'\n",
    "caseSoc = 'npeople'\n",
    "#For mixed build:\n",
    "paramlist = [ncoughpeople,renewalshour,roomtemp,exposuretime,masktype,maskNumber,distance]\n",
    "caseslist = [caseSoc,caseVig,caseRong,caseYib,caseMal,caseMal2,caseAdri]\n",
    "overalldict = dict(zip(caseslist,paramlist))"
   ]
  },
  {
   "cell_type": "markdown",
   "metadata": {},
   "source": [
    "### Build mixed dictionaries based on list mixedlist"
   ]
  },
  {
   "cell_type": "code",
   "execution_count": 4,
   "metadata": {},
   "outputs": [
    {
     "name": "stdout",
     "output_type": "stream",
     "text": [
      "npeople ['back', 'back+teach', 'front+teach', 'sides+teach', 'all'] wall\n",
      "wall  not found in mixeddict\n",
      "ventilation [2, 3, 4, 8] wall\n",
      "wall  not found in mixeddict\n",
      "temp [19, 23, 27] wall\n",
      "wall  not found in mixeddict\n",
      "student ['60s', '120s', '240s', '480s'] wall\n",
      "wall  not found in mixeddict\n",
      "maskType ['wall', 'cotton', 'N95'] wall\n",
      "start building...\n",
      "building  wall\n",
      "Read zones: maskType_wall.zones\n",
      "Reading maskType_wall summaries\n",
      "timesdict name substitution wall\n",
      "massdict name substitution wall\n",
      "npeople ['back', 'back+teach', 'front+teach', 'sides+teach', 'all'] sides+teach\n",
      "start building...\n",
      "building  sides+teach\n",
      "Read zones: npeople_sides+teach.zones\n",
      "Reading npeople_sides+teach summaries\n",
      "timesdict name substitution sides+teach\n",
      "massdict name substitution sides+teach\n",
      "npeople ['back', 'back+teach', 'front+teach', 'sides+teach', 'all'] 23\n",
      "23  not found in mixeddict\n",
      "ventilation [2, 3, 4, 8] 23\n",
      "23  not found in mixeddict\n",
      "temp [19, 23, 27] 23\n",
      "start building...\n",
      "building  23\n",
      "Read zones: temp_23.zones\n",
      "Reading temp_23 summaries\n",
      "finished reading\n",
      "finished reading\n",
      "finished reading\n",
      "finished reading\n",
      "finished reading\n",
      "finished reading\n",
      "finished reading\n",
      "finished reading\n",
      "finished reading\n",
      "finished reading\n",
      "finished reading\n",
      "finished reading\n",
      "finished reading\n",
      "finished reading\n",
      "finished reading\n",
      "finished reading\n",
      "finished reading\n",
      "finished reading\n",
      "finished reading\n",
      "finished reading\n",
      "finished reading\n",
      "finished reading\n",
      "finished reading\n",
      "finished reading\n",
      "finished reading\n",
      "finished reading\n",
      "finished reading\n",
      "finished reading\n",
      "finished reading\n",
      "finished reading\n",
      "finished reading\n",
      "finished reading\n",
      "finished reading\n",
      "finished reading\n",
      "finished reading\n",
      "finished reading\n",
      "finished reading\n",
      "finished reading\n",
      "finished reading\n",
      "finished reading\n",
      "finished reading\n",
      "finished reading\n",
      "finished reading\n",
      "finished reading\n",
      "finished reading\n",
      "finished reading\n",
      "finished reading\n",
      "finished reading\n",
      "finished reading\n",
      "finished reading\n",
      "finished reading\n",
      "finished reading\n",
      "finished reading\n",
      "finished reading\n",
      "finished reading\n",
      "finished reading\n",
      "finished reading\n",
      "finished reading\n",
      "finished reading\n",
      "finished reading\n",
      "finished reading\n",
      "finished reading\n",
      "finished reading\n",
      "finished reading\n",
      "finished reading\n",
      "finished reading\n",
      "finished reading\n",
      "finished reading\n",
      "finished reading\n",
      "finished reading\n",
      "finished reading\n",
      "finished reading\n",
      "finished reading\n",
      "finished reading\n",
      "finished reading\n",
      "finished reading\n",
      "finished reading\n",
      "finished reading\n",
      "finished reading\n",
      "finished reading\n",
      "finished reading\n",
      "finished reading\n",
      "finished reading\n",
      "finished reading\n",
      "finished reading\n",
      "finished reading\n",
      "finished reading\n",
      "finished reading\n",
      "finished reading\n",
      "finished reading\n",
      "finished reading\n",
      "finished reading\n",
      "finished reading\n",
      "finished reading\n",
      "finished reading\n",
      "finished reading\n",
      "finished reading\n",
      "finished reading\n",
      "finished reading\n",
      "finished reading\n",
      "finished reading\n",
      "finished reading\n",
      "finished reading\n",
      "finished reading\n",
      "finished reading\n",
      "finished reading\n",
      "finished reading\n",
      "finished reading\n",
      "finished reading\n",
      "finished reading\n",
      "finished reading\n",
      "finished reading\n",
      "finished reading\n",
      "finished reading\n",
      "finished reading\n",
      "finished reading\n",
      "finished reading\n",
      "finished reading\n",
      "finished reading\n",
      "finished reading\n",
      "finished reading\n",
      "finished reading\n",
      "finished reading\n",
      "finished reading\n",
      "finished reading\n",
      "finished reading\n",
      "finished reading\n",
      "finished reading\n",
      "finished reading\n",
      "finished reading\n",
      "finished reading\n",
      "finished reading\n",
      "finished reading\n",
      "finished reading\n",
      "finished reading\n",
      "finished reading\n",
      "finished reading\n",
      "finished reading\n",
      "finished reading\n",
      "finished reading\n",
      "finished reading\n",
      "finished reading\n",
      "finished reading\n",
      "finished reading\n",
      "finished reading\n",
      "finished reading\n",
      "finished reading\n",
      "finished reading\n",
      "finished reading\n",
      "finished reading\n",
      "finished reading\n",
      "finished reading\n",
      "finished reading\n",
      "finished reading\n",
      "finished reading\n",
      "finished reading\n",
      "finished reading\n",
      "finished reading\n",
      "finished reading\n",
      "finished reading\n",
      "finished reading\n",
      "finished reading\n",
      "finished reading\n",
      "finished reading\n",
      "finished reading\n",
      "finished reading\n",
      "finished reading\n",
      "finished reading\n",
      "finished reading\n",
      "finished reading\n",
      "finished reading\n",
      "finished reading\n",
      "finished reading\n",
      "finished reading\n",
      "finished reading\n",
      "finished reading\n",
      "finished reading\n",
      "finished reading\n",
      "finished reading\n",
      "finished reading\n",
      "finished reading\n",
      "finished reading\n",
      "finished reading\n",
      "finished reading\n",
      "finished reading\n",
      "finished reading\n",
      "finished reading\n",
      "finished reading\n",
      "finished reading\n",
      "finished reading\n",
      "finished reading\n",
      "finished reading\n",
      "finished reading\n",
      "finished reading\n",
      "finished reading\n",
      "finished reading\n",
      "finished reading\n",
      "finished reading\n",
      "finished reading\n",
      "finished reading\n",
      "finished reading\n",
      "finished reading\n",
      "finished reading\n",
      "finished reading\n",
      "finished reading\n",
      "finished reading\n",
      "finished reading\n",
      "finished reading\n",
      "finished reading\n",
      "finished reading\n",
      "finished reading\n",
      "finished reading\n",
      "finished reading\n",
      "finished reading\n",
      "finished reading\n",
      "finished reading\n",
      "finished reading\n",
      "finished reading\n",
      "finished reading\n",
      "finished reading\n",
      "finished reading\n",
      "finished reading\n",
      "finished reading\n",
      "finished reading\n",
      "finished reading\n",
      "finished reading\n",
      "finished reading\n",
      "finished reading\n",
      "finished reading\n",
      "finished reading\n",
      "finished reading\n",
      "finished reading\n",
      "finished reading\n",
      "finished reading\n",
      "finished reading\n",
      "finished reading\n",
      "finished reading\n",
      "finished reading\n",
      "finished reading\n",
      "finished reading\n",
      "finished reading\n",
      "finished reading\n",
      "finished reading\n",
      "finished reading\n",
      "finished reading\n",
      "finished reading\n",
      "finished reading\n",
      "finished reading\n",
      "finished reading\n",
      "finished reading\n",
      "finished reading\n",
      "finished reading\n",
      "finished reading\n",
      "finished reading\n",
      "finished reading\n",
      "finished reading\n",
      "finished reading\n",
      "finished reading\n",
      "finished reading\n",
      "finished reading\n",
      "finished reading\n",
      "finished reading\n",
      "finished reading\n",
      "finished reading\n",
      "finished reading\n",
      "finished reading\n",
      "finished reading\n",
      "finished reading\n",
      "finished reading\n",
      "finished reading\n",
      "finished reading\n",
      "finished reading\n",
      "finished reading\n",
      "finished reading\n",
      "finished reading\n",
      "finished reading\n",
      "finished reading\n",
      "finished reading\n",
      "finished reading\n",
      "finished reading\n",
      "finished reading\n",
      "finished reading\n",
      "finished reading\n",
      "finished reading\n",
      "finished reading\n",
      "finished reading\n",
      "finished reading\n",
      "finished reading\n",
      "finished reading\n",
      "finished reading\n",
      "finished reading\n",
      "finished reading\n",
      "finished reading\n",
      "finished reading\n",
      "finished reading\n",
      "finished reading\n",
      "finished reading\n",
      "finished reading\n",
      "finished reading\n",
      "finished reading\n",
      "finished reading\n",
      "finished reading\n",
      "finished reading\n",
      "finished reading\n",
      "finished reading\n",
      "finished reading\n",
      "finished reading\n",
      "finished reading\n",
      "finished reading\n",
      "finished reading\n",
      "finished reading\n",
      "finished reading\n",
      "finished reading\n",
      "finished reading\n",
      "finished reading\n",
      "finished reading\n",
      "finished reading\n",
      "finished reading\n",
      "finished reading\n",
      "finished reading\n",
      "finished reading\n",
      "finished reading\n",
      "finished reading\n",
      "finished reading\n",
      "finished reading\n",
      "finished reading\n",
      "finished reading\n",
      "finished reading\n",
      "finished reading\n",
      "finished reading\n",
      "finished reading\n",
      "finished reading\n",
      "finished reading\n",
      "finished reading\n",
      "finished reading\n",
      "finished reading\n",
      "finished reading\n",
      "finished reading\n",
      "finished reading\n",
      "finished reading\n",
      "finished reading\n",
      "finished reading\n",
      "finished reading\n",
      "finished reading\n",
      "finished reading\n",
      "finished reading\n",
      "finished reading\n",
      "finished reading\n",
      "finished reading\n",
      "finished reading\n",
      "finished reading\n",
      "finished reading\n",
      "finished reading\n",
      "finished reading\n",
      "finished reading\n",
      "finished reading\n",
      "finished reading\n",
      "finished reading\n",
      "finished reading\n",
      "finished reading\n",
      "finished reading\n",
      "finished reading\n",
      "finished reading\n",
      "finished reading\n",
      "finished reading\n",
      "finished reading\n",
      "finished reading\n",
      "finished reading\n",
      "finished reading\n",
      "finished reading\n",
      "finished reading\n",
      "finished reading\n",
      "finished reading\n",
      "finished reading\n",
      "finished reading\n",
      "finished reading\n",
      "finished reading\n",
      "finished reading\n",
      "finished reading\n",
      "finished reading\n",
      "finished reading\n",
      "finished reading\n",
      "finished reading\n",
      "finished reading\n",
      "finished reading\n",
      "finished reading\n",
      "finished reading\n",
      "finished reading\n",
      "finished reading\n",
      "finished reading\n",
      "finished reading\n",
      "finished reading\n",
      "finished reading\n",
      "finished reading\n",
      "finished reading\n",
      "finished reading\n",
      "finished reading\n",
      "finished reading\n",
      "finished reading\n",
      "finished reading\n",
      "finished reading\n",
      "finished reading\n",
      "finished reading\n",
      "finished reading\n",
      "finished reading\n",
      "finished reading\n",
      "finished reading\n",
      "finished reading\n",
      "finished reading\n",
      "finished reading\n",
      "finished reading\n",
      "finished reading\n",
      "finished reading\n",
      "finished reading\n",
      "finished reading\n",
      "finished reading\n",
      "finished reading\n",
      "finished reading\n",
      "finished reading\n",
      "finished reading\n",
      "finished reading\n",
      "finished reading\n",
      "finished reading\n"
     ]
    },
    {
     "name": "stdout",
     "output_type": "stream",
     "text": [
      "finished reading\n",
      "finished reading\n",
      "finished reading\n",
      "finished reading\n",
      "finished reading\n",
      "finished reading\n",
      "finished reading\n",
      "finished reading\n",
      "finished reading\n",
      "finished reading\n",
      "finished reading\n",
      "finished reading\n",
      "finished reading\n",
      "finished reading\n",
      "finished reading\n",
      "finished reading\n",
      "finished reading\n",
      "finished reading\n",
      "finished reading\n",
      "finished reading\n",
      "finished reading\n",
      "finished reading\n",
      "finished reading\n",
      "finished reading\n",
      "finished reading\n",
      "finished reading\n",
      "finished reading\n",
      "finished reading\n",
      "finished reading\n",
      "finished reading\n",
      "finished reading\n",
      "finished reading\n",
      "finished reading\n",
      "finished reading\n",
      "finished reading\n",
      "finished reading\n",
      "finished reading\n",
      "finished reading\n",
      "finished reading\n",
      "finished reading\n",
      "finished reading\n",
      "finished reading\n",
      "finished reading\n",
      "finished reading\n",
      "finished reading\n",
      "finished reading\n",
      "finished reading\n",
      "finished reading\n",
      "finished reading\n",
      "finished reading\n",
      "finished reading\n",
      "finished reading\n",
      "finished reading\n",
      "finished reading\n",
      "finished reading\n",
      "finished reading\n",
      "finished reading\n",
      "finished reading\n",
      "finished reading\n",
      "finished reading\n",
      "finished reading\n",
      "finished reading\n",
      "finished reading\n",
      "finished reading\n",
      "finished reading\n",
      "finished reading\n",
      "finished reading\n",
      "finished reading\n",
      "finished reading\n",
      "finished reading\n",
      "finished reading\n",
      "finished reading\n",
      "finished reading\n",
      "finished reading\n",
      "finished reading\n",
      "finished reading\n",
      "finished reading\n",
      "finished reading\n",
      "finished reading\n",
      "finished reading\n",
      "finished reading\n",
      "finished reading\n",
      "finished reading\n",
      "finished reading\n",
      "finished reading\n",
      "finished reading\n",
      "finished reading\n",
      "finished reading\n",
      "finished reading\n",
      "finished reading\n",
      "finished reading\n",
      "finished reading\n",
      "finished reading\n",
      "finished reading\n",
      "finished reading\n",
      "finished reading\n",
      "finished reading\n",
      "finished reading\n",
      "finished reading\n",
      "finished reading\n",
      "finished reading\n",
      "finished reading\n",
      "finished reading\n",
      "finished reading\n",
      "finished reading\n",
      "finished reading\n",
      "finished reading\n",
      "finished reading\n",
      "finished reading\n",
      "finished reading\n",
      "finished reading\n",
      "finished reading\n",
      "finished reading\n",
      "finished reading\n",
      "finished reading\n",
      "finished reading\n",
      "finished reading\n",
      "finished reading\n",
      "finished reading\n",
      "finished reading\n",
      "finished reading\n",
      "finished reading\n",
      "finished reading\n",
      "finished reading\n",
      "finished reading\n",
      "finished reading\n",
      "finished reading\n",
      "finished reading\n",
      "finished reading\n",
      "finished reading\n",
      "finished reading\n",
      "finished reading\n",
      "finished reading\n",
      "finished reading\n",
      "finished reading\n",
      "finished reading\n",
      "finished reading\n",
      "finished reading\n",
      "finished reading\n",
      "finished reading\n",
      "finished reading\n",
      "finished reading\n",
      "finished reading\n",
      "finished reading\n",
      "finished reading\n",
      "finished reading\n",
      "finished reading\n",
      "finished reading\n",
      "finished reading\n",
      "finished reading\n",
      "finished reading\n",
      "finished reading\n",
      "finished reading\n",
      "finished reading\n",
      "finished reading\n",
      "finished reading\n",
      "finished reading\n",
      "finished reading\n",
      "finished reading\n",
      "finished reading\n",
      "finished reading\n",
      "finished reading\n",
      "finished reading\n",
      "finished reading\n",
      "finished reading\n",
      "finished reading\n",
      "finished reading\n",
      "finished reading\n",
      "finished reading\n",
      "finished reading\n",
      "finished reading\n",
      "finished reading\n",
      "finished reading\n",
      "finished reading\n",
      "finished reading\n",
      "finished reading\n",
      "timesdict name substitution 23\n",
      "massdict name substitution 23\n",
      "npeople ['back', 'back+teach', 'front+teach', 'sides+teach', 'all'] 8\n",
      "8  not found in mixeddict\n",
      "ventilation [2, 3, 4, 8] 8\n",
      "start building...\n",
      "building  8\n",
      "Read zones: ventilation_8.zones\n",
      "Reading ventilation_8 summaries\n",
      "timesdict name substitution 8\n",
      "massdict name substitution 8\n"
     ]
    }
   ],
   "source": [
    "mixedlist = ['wall','sides+teach',23,8]\n",
    "timesmixdict = dict.fromkeys(mixedlist)\n",
    "massmixdict = dict.fromkeys(mixedlist)\n",
    "totalsmixdict = dict.fromkeys(mixedlist)\n",
    "zonesmixdict = dict.fromkeys(mixedlist)\n",
    "back = False\n",
    "for elem in mixedlist:\n",
    "    if elem == 'back' and back == False:\n",
    "        back = True\n",
    "    elif elem == 'back' and back == True:\n",
    "        continue\n",
    "    for casename,plist in overalldict.items():\n",
    "        print(casename,plist,elem)\n",
    "        if elem in plist:\n",
    "            zn,td,md,totd = functions.build(casename,[elem])\n",
    "            functions.matchallnames(td,md,zn,[elem])\n",
    "            timesmixdict[elem] = td[elem]\n",
    "            massmixdict[elem] = md[elem]\n",
    "            totalsmixdict[elem] = totd[elem]\n",
    "            zonesmixdict[elem] = zn[elem]\n",
    "            break\n",
    "        else:\n",
    "            print(elem,' not found in mixeddict')"
   ]
  },
  {
   "cell_type": "markdown",
   "metadata": {},
   "source": [
    "### Load data with your casename and your parameter"
   ]
  },
  {
   "cell_type": "code",
   "execution_count": 4,
   "metadata": {
    "scrolled": true,
    "tags": []
   },
   "outputs": [
    {
     "name": "stdout",
     "output_type": "stream",
     "text": [
      "start building...\n",
      "building  2student\n",
      "Read zones: distance_2student.zones\n",
      "Reading distance_2student summaries\n",
      "building  4student\n",
      "Read zones: distance_4student.zones\n",
      "Reading distance_4student summaries\n",
      "building  2teacher\n",
      "Read zones: distance_2teacher.zones\n",
      "Reading distance_2teacher summaries\n",
      "building  4teacher\n",
      "Read zones: distance_4teacher.zones\n",
      "Reading distance_4teacher summaries\n",
      "timesdict name substitution 2student\n",
      "massdict name substitution 2student\n",
      "timesdict name substitution 4student\n",
      "massdict name substitution 4student\n",
      "timesdict name substitution 2teacher\n",
      "massdict name substitution 2teacher\n",
      "timesdict name substitution 4teacher\n",
      "massdict name substitution 4teacher\n"
     ]
    }
   ],
   "source": [
    "zones,timesdict,massdict,totalsdict = functions.build('distance',distance)\n",
    "functions.matchallnames(timesdict,massdict,zones,distance)"
   ]
  },
  {
   "cell_type": "markdown",
   "metadata": {},
   "source": [
    "## Use function.changekey to change the key name if you want so\n",
    "It might help with the quality of the information that appears in the bar plot tick labels\n",
    "\n",
    "use it with:   ourdict = functions.changekey(ourdict,old_key,new_key)"
   ]
  },
  {
   "cell_type": "code",
   "execution_count": 13,
   "metadata": {},
   "outputs": [
    {
     "ename": "NameError",
     "evalue": "name 'newtimesmixdict' is not defined",
     "output_type": "error",
     "traceback": [
      "\u001b[1;31m---------------------------------------------------------------------------\u001b[0m",
      "\u001b[1;31mNameError\u001b[0m                                 Traceback (most recent call last)",
      "\u001b[1;32m<ipython-input-13-7e2ddab22356>\u001b[0m in \u001b[0;36m<module>\u001b[1;34m\u001b[0m\n\u001b[1;32m----> 1\u001b[1;33m \u001b[0mnewtimesmixdict\u001b[0m \u001b[1;33m=\u001b[0m \u001b[0mfunctions\u001b[0m\u001b[1;33m.\u001b[0m\u001b[0mchangekey\u001b[0m\u001b[1;33m(\u001b[0m\u001b[0mnewtimesmixdict\u001b[0m\u001b[1;33m,\u001b[0m\u001b[1;36m8\u001b[0m\u001b[1;33m,\u001b[0m\u001b[1;34m'8 Ventilations/h'\u001b[0m\u001b[1;33m)\u001b[0m\u001b[1;33m\u001b[0m\u001b[1;33m\u001b[0m\u001b[0m\n\u001b[0m",
      "\u001b[1;31mNameError\u001b[0m: name 'newtimesmixdict' is not defined"
     ]
    }
   ],
   "source": [
    "newtimesmixdict = functions.changekey(newtimesmixdict,8,'8 Ventilations/h')"
   ]
  },
  {
   "cell_type": "markdown",
   "metadata": {},
   "source": [
    "### Calculate % of total particles and % of total mass for each fate. New columns are 'Particles %' and 'Mass %'"
   ]
  },
  {
   "cell_type": "code",
   "execution_count": 9,
   "metadata": {
    "scrolled": true
   },
   "outputs": [
    {
     "ename": "NameError",
     "evalue": "name 'timesdict' is not defined",
     "output_type": "error",
     "traceback": [
      "\u001b[1;31m---------------------------------------------------------------------------\u001b[0m",
      "\u001b[1;31mNameError\u001b[0m                                 Traceback (most recent call last)",
      "\u001b[1;32m<ipython-input-9-27e0ed2d3c4b>\u001b[0m in \u001b[0;36m<module>\u001b[1;34m\u001b[0m\n\u001b[1;32m----> 1\u001b[1;33m \u001b[1;32mfor\u001b[0m \u001b[0mkey\u001b[0m\u001b[1;33m,\u001b[0m\u001b[0mitem\u001b[0m \u001b[1;32min\u001b[0m \u001b[0mtimesdict\u001b[0m\u001b[1;33m.\u001b[0m\u001b[0mitems\u001b[0m\u001b[1;33m(\u001b[0m\u001b[1;33m)\u001b[0m\u001b[1;33m:\u001b[0m\u001b[1;33m\u001b[0m\u001b[1;33m\u001b[0m\u001b[0m\n\u001b[0m\u001b[0;32m      2\u001b[0m     \u001b[1;31m#we cannot use item as the dataframe to which apply the operation because item is a copy of the actual dataframe inside the dict\u001b[0m\u001b[1;33m\u001b[0m\u001b[1;33m\u001b[0m\u001b[1;33m\u001b[0m\u001b[0m\n\u001b[0;32m      3\u001b[0m     \u001b[0mtimesdict\u001b[0m\u001b[1;33m[\u001b[0m\u001b[0mkey\u001b[0m\u001b[1;33m]\u001b[0m \u001b[1;33m=\u001b[0m \u001b[0mfunctions\u001b[0m\u001b[1;33m.\u001b[0m\u001b[0mpercentage\u001b[0m\u001b[1;33m(\u001b[0m\u001b[0mtimesdict\u001b[0m\u001b[1;33m[\u001b[0m\u001b[0mkey\u001b[0m\u001b[1;33m]\u001b[0m\u001b[1;33m,\u001b[0m\u001b[1;34m'Number'\u001b[0m\u001b[1;33m,\u001b[0m\u001b[1;34m'Particles'\u001b[0m\u001b[1;33m,\u001b[0m\u001b[0mtotalsdict\u001b[0m\u001b[1;33m[\u001b[0m\u001b[0mkey\u001b[0m\u001b[1;33m]\u001b[0m\u001b[1;33m)\u001b[0m\u001b[1;33m\u001b[0m\u001b[1;33m\u001b[0m\u001b[0m\n\u001b[0;32m      4\u001b[0m     \u001b[0mtimesdict\u001b[0m\u001b[1;33m[\u001b[0m\u001b[0mkey\u001b[0m\u001b[1;33m]\u001b[0m\u001b[1;33m.\u001b[0m\u001b[0msort_index\u001b[0m\u001b[1;33m(\u001b[0m\u001b[0maxis\u001b[0m\u001b[1;33m=\u001b[0m\u001b[1;36m0\u001b[0m\u001b[1;33m,\u001b[0m\u001b[0mlevel\u001b[0m\u001b[1;33m=\u001b[0m\u001b[1;34m'flowtime'\u001b[0m\u001b[1;33m,\u001b[0m\u001b[0minplace\u001b[0m\u001b[1;33m=\u001b[0m\u001b[1;32mTrue\u001b[0m\u001b[1;33m)\u001b[0m\u001b[1;33m\u001b[0m\u001b[1;33m\u001b[0m\u001b[0m\n\u001b[0;32m      5\u001b[0m \u001b[1;32mfor\u001b[0m \u001b[0mkey\u001b[0m\u001b[1;33m,\u001b[0m\u001b[0mitem\u001b[0m \u001b[1;32min\u001b[0m \u001b[0mmassdict\u001b[0m\u001b[1;33m.\u001b[0m\u001b[0mitems\u001b[0m\u001b[1;33m(\u001b[0m\u001b[1;33m)\u001b[0m\u001b[1;33m:\u001b[0m\u001b[1;33m\u001b[0m\u001b[1;33m\u001b[0m\u001b[0m\n",
      "\u001b[1;31mNameError\u001b[0m: name 'timesdict' is not defined"
     ]
    }
   ],
   "source": [
    "for key,item in timesdict.items():\n",
    "    #we cannot use item as the dataframe to which apply the operation because item is a copy of the actual dataframe inside the dict\n",
    "    timesdict[key] = functions.percentage(timesdict[key],'Number','Particles',totalsdict[key])\n",
    "    timesdict[key].sort_index(axis=0,level='flowtime',inplace=True)\n",
    "for key,item in massdict.items():\n",
    "    massdict[key] = functions.percentage(massdict[key],'Final','Mass',totalsdict[key])\n",
    "    massdict[key].sort_index(axis=0,level='flowtime',inplace=True)\n",
    "for key,item in totalsdict.items():\n",
    "    totalsdict[key].sort_index(axis=0,level='flowtime',inplace=True)\n",
    "#For single parameter element:\n",
    "#timesdict['2m'] = percentage(timesdict['2m'],'Number','Particles',totalsdict['2m'])\n",
    "#massdict['2m'] = percentage(massdict['2m'],'Final','Mass',totalsdict['2m'])"
   ]
  },
  {
   "cell_type": "markdown",
   "metadata": {},
   "source": [
    "## Same (percentages columns) for mixed dicts"
   ]
  },
  {
   "cell_type": "code",
   "execution_count": 5,
   "metadata": {},
   "outputs": [],
   "source": [
    "for key,item in timesmixdict.items():\n",
    "    #we cannot use item as the dataframe to which apply the operation because item is a copy of the actual dataframe inside the dict\n",
    "    timesmixdict[key] = functions.percentage(timesmixdict[key],'Number','Particles',totalsmixdict[key])\n",
    "    timesmixdict[key].sort_index(axis=0,level='flowtime',inplace=True)\n",
    "for key,item in massmixdict.items():\n",
    "    massmixdict[key] = functions.percentage(massmixdict[key],'Final','Mass',totalsmixdict[key])\n",
    "    massmixdict[key].sort_index(axis=0,level='flowtime',inplace=True)\n",
    "for key,item in totalsmixdict.items():\n",
    "    totalsmixdict[key].sort_index(axis=0,level='flowtime',inplace=True)\n",
    "#For single parameter element:\n",
    "#timesdict['2m'] = percentage(timesdict['2m'],'Number','Particles',totalsdict['2m'])\n",
    "#massdict['2m'] = percentage(massdict['2m'],'Final','Mass',totalsdict['2m'])"
   ]
  },
  {
   "cell_type": "markdown",
   "metadata": {},
   "source": [
    "### Export the state at a chosen instant to LaTeX table. \n",
    "Default number format is 2 decimals. If you need to change it do it inside functions.py or tell me"
   ]
  },
  {
   "cell_type": "code",
   "execution_count": null,
   "metadata": {},
   "outputs": [],
   "source": [
    "toprintcolumns = ['Fate','Number','Particles %']\n",
    "instant = 60\n",
    "#pass whatever instant and list of columns to instant_to_latex\n",
    "functions.instant_to_latex(timesdict,toprintcolumns,instant)"
   ]
  },
  {
   "cell_type": "markdown",
   "metadata": {},
   "source": [
    "### Drop a given list of matches (default is floor surfs, mouths, Escaped,roof/ceiling and 4th row students)\n",
    "Returns the filtered dictionary"
   ]
  },
  {
   "cell_type": "code",
   "execution_count": 6,
   "metadata": {},
   "outputs": [],
   "source": [
    "filterstrings = ['mouth','Trapped '+r'floor\\d{1,2}','Escaped','roof','students_floor4','ceiling']\n",
    "newtimesdict = functions.dropfates(timesdict,filterstrings) #drops all mouths, Escaped and floor surfaces (keeps non-floor zones labeled with floor in their name)\n",
    "newmassdict = functions.dropfates(massdict,filterstrings)"
   ]
  },
  {
   "cell_type": "markdown",
   "metadata": {},
   "source": [
    "#### Same for mixed dict"
   ]
  },
  {
   "cell_type": "code",
   "execution_count": 6,
   "metadata": {},
   "outputs": [],
   "source": [
    "filterstrings = ['mouth','Trapped '+r'floor\\d{1,2}','Escaped','roof','students_floor4','ceiling']\n",
    "newtimesmixdict = functions.dropfates(timesmixdict,filterstrings) #drops all mouths, Escaped and floor surfaces (keeps non-floor zones labeled with floor in their name)\n",
    "newmassmixdict = functions.dropfates(massmixdict,filterstrings)"
   ]
  },
  {
   "cell_type": "markdown",
   "metadata": {},
   "source": [
    "### Plot against parameter"
   ]
  },
  {
   "cell_type": "code",
   "execution_count": null,
   "metadata": {},
   "outputs": [],
   "source": [
    "functions.plotagainstparam(timesdict,'Particles %','Trapped',40,'Trapped')\n",
    "functions.plotagainstparam(timesdict,'Particles %','Fluid',40,'in Fluid')\n",
    "plt.legend()\n",
    "plt.title('Trapped particles in %')"
   ]
  },
  {
   "cell_type": "markdown",
   "metadata": {},
   "source": [
    "## BAR PLOT EXAMPLE\n",
    "### --------------------------------------"
   ]
  },
  {
   "cell_type": "code",
   "execution_count": null,
   "metadata": {},
   "outputs": [],
   "source": [
    "fates = ['desk','student','inFluid','Escaped']\n",
    "x = np.arange(len(newtimesdict.keys()))\n",
    "instant = 60\n",
    "fix,ax,handles,bars = functions.barplot(newtimesdict,'Particles %',instant,fates)\n",
    "ax.set_xticks(x)\n",
    "ax.set_xticklabels(newtimesdict.keys())\n",
    "ax.set_ylabel('Particles %')\n",
    "ax.set_title('Fate of particles at t=' + str(instant))\n",
    "ax.legend()\n",
    "plt.savefig('testbar.pdf',dpi=250)"
   ]
  },
  {
   "cell_type": "markdown",
   "metadata": {},
   "source": [
    "#### Same for mixed dict"
   ]
  },
  {
   "cell_type": "code",
   "execution_count": 17,
   "metadata": {
    "scrolled": false
   },
   "outputs": [
    {
     "name": "stdout",
     "output_type": "stream",
     "text": [
      "The function returns figure handle, ax.handles in a dict and bar lists in a dict with the passed fates as keys\n",
      "Example: fig,ax,handles,bars = barplot(timesdict,\"Particles %\",60,[\"desk\",\"in Fluid\",\"Escaped\",\"student\"]\n",
      "                                                                ^                      ^\n",
      "                                                                |                      |\n",
      "                                                               instant     list of fates/surfaces to search for\n",
      "--------------------------------------------------------------------------------\n",
      "Useful Commands:\n",
      "ax.set_ylabel()\n",
      "ax.set_title()\n",
      "ax.set_xticks()\n",
      "ax.set_xtickslabels\n",
      "ax.legend()\n",
      "ax.bar_label(handles[fate],padding=3)\n",
      "plt.show()\n"
     ]
    },
    {
     "data": {
      "image/png": "[encoded data removed]",
      "text/plain": [
       "<Figure size 432x288 with 1 Axes>"
      ]
     },
     "metadata": {
      "needs_background": "light"
     },
     "output_type": "display_data"
    }
   ],
   "source": [
    "fates = ['Fluid','Trapped']\n",
    "x = np.arange(len(newtimesmixdict.keys()))\n",
    "instant = 60\n",
    "fix,ax,handles,bars = functions.barplot(newtimesmixdict,'Particles %',instant,fates)\n",
    "ax.set_xticks(x)\n",
    "ax.set_xticklabels(newtimesmixdict.keys())\n",
    "ax.set_ylabel('Particles %')\n",
    "ax.set_title('Fate of particles at t=' + str(instant))\n",
    "ax.legend()\n",
    "plt.savefig('mixedbars.pdf')"
   ]
  },
  {
   "cell_type": "markdown",
   "metadata": {},
   "source": [
    "## Time Evolution plot\n",
    "## -----------------------------"
   ]
  },
  {
   "cell_type": "code",
   "execution_count": 7,
   "metadata": {},
   "outputs": [
    {
     "data": {
      "image/png": "[encoded data removed]",
      "text/plain": [
       "<Figure size 432x288 with 1 Axes>"
      ]
     },
     "metadata": {
      "needs_background": "light"
     },
     "output_type": "display_data"
    },
    {
     "data": {
      "image/png": "[encoded data removed]",
      "text/plain": [
       "<Figure size 432x288 with 1 Axes>"
      ]
     },
     "metadata": {
      "needs_background": "light"
     },
     "output_type": "display_data"
    },
    {
     "data": {
      "image/png": "[encoded data removed]",
      "text/plain": [
       "<Figure size 432x288 with 1 Axes>"
      ]
     },
     "metadata": {
      "needs_background": "light"
     },
     "output_type": "display_data"
    },
    {
     "data": {
      "image/png": "[encoded data removed]",
      "text/plain": [
       "<Figure size 432x288 with 1 Axes>"
      ]
     },
     "metadata": {
      "needs_background": "light"
     },
     "output_type": "display_data"
    }
   ],
   "source": [
    "fates = ['Fluid','desk','teacher','student']\n",
    "functions.plotagainsttime(timesdict,fates)"
   ]
  },
  {
   "cell_type": "markdown",
   "metadata": {},
   "source": [
    "#### Same for mixed"
   ]
  },
  {
   "cell_type": "code",
   "execution_count": 7,
   "metadata": {
    "scrolled": true
   },
   "outputs": [
    {
     "data": {
      "image/png": "[encoded data removed]",
      "text/plain": [
       "<Figure size 432x288 with 1 Axes>"
      ]
     },
     "metadata": {
      "needs_background": "light"
     },
     "output_type": "display_data"
    }
   ],
   "source": [
    "fates = ['Fluid','Trapped']\n",
    "functions.plotagainsttime(newtimesmixdict,fates,mix=True,savefig=True)\n",
    "#If you pass mix=False there will be one figure for every key (wall,side+teach,etc)\n",
    "#If you pass mix=True everything will be plotted in one figure\n",
    "#savefig=False deactivate list"
   ]
  },
  {
   "cell_type": "markdown",
   "metadata": {},
   "source": [
    "### Other things"
   ]
  },
  {
   "cell_type": "code",
   "execution_count": null,
   "metadata": {},
   "outputs": [],
   "source": [
    "fates = timesdict['back+teach'].loc[60,'Fate'].append(timesdict['sides+teach'].loc[60,'Fate'],ignore_index=True).drop_duplicates()"
   ]
  },
  {
   "cell_type": "code",
   "execution_count": null,
   "metadata": {},
   "outputs": [],
   "source": [
    "timesdict['front+teach'].index"
   ]
  },
  {
   "cell_type": "code",
   "execution_count": null,
   "metadata": {
    "scrolled": true
   },
   "outputs": [],
   "source": [
    "column_across_param(timesdict,'Number',60)"
   ]
  },
  {
   "cell_type": "markdown",
   "metadata": {},
   "source": [
    "# EXAMPLES ON HOW TO ACCESS THE DATA:"
   ]
  },
  {
   "cell_type": "code",
   "execution_count": null,
   "metadata": {},
   "outputs": [],
   "source": [
    "timesdict['sides+teach'].loc[timesdict['sides+teach'].Fate.str.contains(fr\"desk\",regex=True)]"
   ]
  },
  {
   "cell_type": "code",
   "execution_count": null,
   "metadata": {},
   "outputs": [],
   "source": [
    "massdict['2m'].loc[60]"
   ]
  },
  {
   "cell_type": "code",
   "execution_count": null,
   "metadata": {},
   "outputs": [],
   "source": [
    "totalsdict"
   ]
  },
  {
   "cell_type": "code",
   "execution_count": null,
   "metadata": {},
   "outputs": [],
   "source": [
    "massdict['4m']['Mass %']"
   ]
  },
  {
   "cell_type": "code",
   "execution_count": null,
   "metadata": {},
   "outputs": [],
   "source": [
    "timesdict['2m'].loc[0.6,'Particles %']"
   ]
  },
  {
   "cell_type": "markdown",
   "metadata": {},
   "source": [
    "### Print several documentations (out of date though)"
   ]
  },
  {
   "cell_type": "code",
   "execution_count": null,
   "metadata": {},
   "outputs": [],
   "source": [
    "print('READ_RESULTS INSTRUCTIONS')\n",
    "print('----------------------------------------------')\n",
    "print(read_results.__doc__)\n",
    "print('-----------------------------------------------')\n",
    "print('')\n",
    "print('PERCENTAGE INSTRUCTIONS')\n",
    "print('----------------------------------------------')\n",
    "print(percentage.__doc__)\n",
    "print('-----------------------------------------------')\n",
    "print('')\n",
    "print('PLOT AGAINST PARAM INSTRUCTIONS')\n",
    "print('----------------------------------------------')\n",
    "print(plotagainstparam.__doc__)\n",
    "print('MATCHNAMES INSTRUCTIONS')\n",
    "print('----------------------------------------------')\n",
    "print(readers.matchnames.__doc__)"
   ]
  }
 ],
 "metadata": {
  "kernelspec": {
   "display_name": "Python 3",
   "language": "python",
   "name": "python3"
  },
  "language_info": {
   "codemirror_mode": {
    "name": "ipython",
    "version": 3
   },
   "file_extension": ".py",
   "mimetype": "text/x-python",
   "name": "python",
   "nbconvert_exporter": "python",
   "pygments_lexer": "ipython3",
   "version": "3.9.4"
  }
 },
 "nbformat": 4,
 "nbformat_minor": 4
}
