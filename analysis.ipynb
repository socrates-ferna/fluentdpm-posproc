{
 "cells": [
  {
   "cell_type": "code",
   "execution_count": 1,
   "metadata": {},
   "outputs": [],
   "source": [
    "import readers\n",
    "import functions\n",
    "import pandas as pd\n",
    "import numpy as np\n",
    "import csv\n",
    "import matplotlib.pyplot as plt\n",
    "from importlib import reload\n",
    "#if is_changed(functions)"
   ]
  },
  {
   "cell_type": "code",
   "execution_count": 100,
   "metadata": {},
   "outputs": [
    {
     "data": {
      "text/plain": [
       "<module 'functions' from 'C:\\\\Users\\\\optis\\\\OneDrive\\\\Documentos\\\\GRP\\\\final_stage\\\\results\\\\summary\\\\functions.py'>"
      ]
     },
     "execution_count": 100,
     "metadata": {},
     "output_type": "execute_result"
    }
   ],
   "source": [
    "reload(functions)\n",
    "#reload(readers)"
   ]
  },
  {
   "cell_type": "markdown",
   "metadata": {},
   "source": [
    "#### Execute the cell below to reload changes done in module functions without restarting the kernel"
   ]
  },
  {
   "cell_type": "markdown",
   "metadata": {},
   "source": [
    "# Parameter lists for every person (modify if necessary)"
   ]
  },
  {
   "cell_type": "code",
   "execution_count": 2,
   "metadata": {
    "tags": []
   },
   "outputs": [],
   "source": [
    "#Parameter lists\n",
    "distance = ['2student','4student','2teacher','4teacher']                      #Adrián\n",
    "renewalshour = [2,3,4,8]                                               #Vighnesh\n",
    "roomtemp = [19,23,27]                                                  #Ronghao\n",
    "exposuretime = ['60s','120s','240s','480s']                            #Yibing\n",
    "masktype = ['wall','cotton','N95']                                     #Malo\n",
    "maskNumber = ['one','all']                                             #Malo\n",
    "ncoughpeople = ['back','back+teach','front+teach','sides+teach','all'] #Sócrates\n",
    "caseAdri = 'distance'\n",
    "caseVig = 'ventilation'\n",
    "caseRong = 'temp'\n",
    "caseYib = 'student'\n",
    "caseMal = 'maskType'\n",
    "caseMal2 = 'maskNumber'\n",
    "caseSoc = 'npeople'\n",
    "#For mixed build:\n",
    "paramlist = [ncoughpeople,renewalshour,roomtemp,exposuretime,masktype,maskNumber,distance]\n",
    "caseslist = [caseSoc,caseVig,caseRong,caseYib,caseMal,caseMal2,caseAdri]\n",
    "overalldict = dict(zip(caseslist,paramlist))"
   ]
  },
  {
   "cell_type": "markdown",
   "metadata": {},
   "source": [
    "### Build mixed dictionaries based on list mixedlist"
   ]
  },
  {
   "cell_type": "code",
   "execution_count": 3,
   "metadata": {
    "scrolled": true,
    "tags": []
   },
   "outputs": [
    {
     "name": "stdout",
     "output_type": "stream",
     "text": [
      "npeople ['back', 'back+teach', 'front+teach', 'sides+teach', 'all'] wall\n",
      "wall  not found in mixeddict\n",
      "ventilation [2, 3, 4, 8] wall\n",
      "wall  not found in mixeddict\n",
      "temp [19, 23, 27] wall\n",
      "wall  not found in mixeddict\n",
      "student ['60s', '120s', '240s', '480s'] wall\n",
      "wall  not found in mixeddict\n",
      "maskType ['wall', 'cotton', 'N95'] wall\n",
      "start building...\n",
      "building  wall\n",
      "Read zones: maskType_wall.zones\n",
      "Reading maskType_wall summaries\n",
      "timesdict name substitution wall\n",
      "massdict name substitution wall\n",
      "npeople ['back', 'back+teach', 'front+teach', 'sides+teach', 'all'] 4student\n",
      "4student  not found in mixeddict\n",
      "ventilation [2, 3, 4, 8] 4student\n",
      "4student  not found in mixeddict\n",
      "temp [19, 23, 27] 4student\n",
      "4student  not found in mixeddict\n",
      "student ['60s', '120s', '240s', '480s'] 4student\n",
      "4student  not found in mixeddict\n",
      "maskType ['wall', 'cotton', 'N95'] 4student\n",
      "4student  not found in mixeddict\n",
      "maskNumber ['one', 'all'] 4student\n",
      "4student  not found in mixeddict\n",
      "distance ['2student', '4student', '2teacher', '4teacher'] 4student\n",
      "start building...\n",
      "building  4student\n",
      "Read zones: distance_4student.zones\n",
      "Reading distance_4student summaries\n",
      "timesdict name substitution 4student\n",
      "massdict name substitution 4student\n",
      "npeople ['back', 'back+teach', 'front+teach', 'sides+teach', 'all'] sides+teach\n",
      "start building...\n",
      "building  sides+teach\n",
      "Read zones: npeople_sides+teach.zones\n",
      "Reading npeople_sides+teach summaries\n",
      "timesdict name substitution sides+teach\n",
      "massdict name substitution sides+teach\n",
      "npeople ['back', 'back+teach', 'front+teach', 'sides+teach', 'all'] 8\n",
      "8  not found in mixeddict\n",
      "ventilation [2, 3, 4, 8] 8\n",
      "start building...\n",
      "building  8\n",
      "Read zones: ventilation_8.zones\n",
      "Reading ventilation_8 summaries\n",
      "timesdict name substitution 8\n",
      "massdict name substitution 8\n",
      "npeople ['back', 'back+teach', 'front+teach', 'sides+teach', 'all'] 23\n",
      "23  not found in mixeddict\n",
      "ventilation [2, 3, 4, 8] 23\n",
      "23  not found in mixeddict\n",
      "temp [19, 23, 27] 23\n",
      "start building...\n",
      "building  23\n",
      "Read zones: temp_23.zones\n",
      "Reading temp_23 summaries\n",
      "finished reading\n",
      "finished reading\n",
      "finished reading\n",
      "finished reading\n",
      "finished reading\n",
      "finished reading\n",
      "finished reading\n",
      "finished reading\n",
      "finished reading\n",
      "finished reading\n",
      "finished reading\n",
      "finished reading\n",
      "finished reading\n",
      "finished reading\n",
      "finished reading\n",
      "finished reading\n",
      "finished reading\n",
      "finished reading\n",
      "finished reading\n",
      "finished reading\n",
      "finished reading\n",
      "finished reading\n",
      "finished reading\n",
      "finished reading\n",
      "finished reading\n",
      "finished reading\n",
      "finished reading\n",
      "finished reading\n",
      "finished reading\n",
      "finished reading\n",
      "finished reading\n",
      "finished reading\n",
      "finished reading\n",
      "finished reading\n",
      "finished reading\n",
      "finished reading\n",
      "finished reading\n",
      "finished reading\n",
      "finished reading\n",
      "finished reading\n",
      "finished reading\n",
      "finished reading\n",
      "finished reading\n",
      "finished reading\n",
      "finished reading\n",
      "finished reading\n",
      "finished reading\n",
      "finished reading\n",
      "finished reading\n",
      "finished reading\n",
      "finished reading\n",
      "finished reading\n",
      "finished reading\n",
      "finished reading\n",
      "finished reading\n",
      "finished reading\n",
      "finished reading\n",
      "finished reading\n",
      "finished reading\n",
      "finished reading\n",
      "finished reading\n",
      "finished reading\n",
      "finished reading\n",
      "finished reading\n",
      "finished reading\n",
      "finished reading\n",
      "finished reading\n",
      "finished reading\n",
      "finished reading\n",
      "finished reading\n",
      "finished reading\n",
      "finished reading\n",
      "finished reading\n",
      "finished reading\n",
      "finished reading\n",
      "finished reading\n",
      "finished reading\n",
      "finished reading\n",
      "finished reading\n",
      "finished reading\n",
      "finished reading\n",
      "finished reading\n",
      "finished reading\n",
      "finished reading\n",
      "finished reading\n",
      "finished reading\n",
      "finished reading\n",
      "finished reading\n",
      "finished reading\n",
      "finished reading\n",
      "finished reading\n",
      "finished reading\n",
      "finished reading\n",
      "finished reading\n",
      "finished reading\n",
      "finished reading\n",
      "finished reading\n",
      "finished reading\n",
      "finished reading\n",
      "finished reading\n",
      "finished reading\n",
      "finished reading\n",
      "finished reading\n",
      "finished reading\n",
      "finished reading\n",
      "finished reading\n",
      "finished reading\n",
      "finished reading\n",
      "finished reading\n",
      "finished reading\n",
      "finished reading\n",
      "finished reading\n",
      "finished reading\n",
      "finished reading\n",
      "finished reading\n",
      "finished reading\n",
      "finished reading\n",
      "finished reading\n",
      "finished reading\n",
      "finished reading\n",
      "finished reading\n",
      "finished reading\n",
      "finished reading\n",
      "finished reading\n",
      "finished reading\n",
      "finished reading\n",
      "finished reading\n",
      "finished reading\n",
      "finished reading\n",
      "finished reading\n",
      "finished reading\n",
      "finished reading\n",
      "finished reading\n",
      "finished reading\n",
      "finished reading\n",
      "finished reading\n",
      "finished reading\n",
      "finished reading\n",
      "finished reading\n",
      "finished reading\n",
      "finished reading\n",
      "finished reading\n",
      "finished reading\n",
      "finished reading\n",
      "finished reading\n",
      "finished reading\n",
      "finished reading\n",
      "finished reading\n",
      "finished reading\n",
      "finished reading\n",
      "finished reading\n",
      "finished reading\n",
      "finished reading\n",
      "finished reading\n",
      "finished reading\n",
      "finished reading\n",
      "finished reading\n",
      "finished reading\n",
      "finished reading\n",
      "finished reading\n",
      "finished reading\n",
      "finished reading\n",
      "finished reading\n",
      "finished reading\n",
      "finished reading\n",
      "finished reading\n",
      "finished reading\n",
      "finished reading\n",
      "finished reading\n",
      "finished reading\n",
      "finished reading\n",
      "finished reading\n",
      "finished reading\n",
      "finished reading\n",
      "finished reading\n",
      "finished reading\n",
      "finished reading\n",
      "finished reading\n",
      "finished reading\n",
      "finished reading\n",
      "finished reading\n",
      "finished reading\n",
      "finished reading\n",
      "finished reading\n",
      "finished reading\n",
      "finished reading\n",
      "finished reading\n",
      "finished reading\n",
      "finished reading\n",
      "finished reading\n",
      "finished reading\n",
      "finished reading\n",
      "finished reading\n",
      "finished reading\n",
      "finished reading\n",
      "finished reading\n",
      "finished reading\n",
      "finished reading\n",
      "finished reading\n",
      "finished reading\n",
      "finished reading\n",
      "finished reading\n",
      "finished reading\n",
      "finished reading\n",
      "finished reading\n",
      "finished reading\n",
      "finished reading\n",
      "finished reading\n",
      "finished reading\n",
      "finished reading\n",
      "finished reading\n",
      "finished reading\n",
      "finished reading\n",
      "finished reading\n",
      "finished reading\n",
      "finished reading\n",
      "finished reading\n",
      "finished reading\n",
      "finished reading\n",
      "finished reading\n",
      "finished reading\n",
      "finished reading\n",
      "finished reading\n",
      "finished reading\n",
      "finished reading\n",
      "finished reading\n",
      "finished reading\n",
      "finished reading\n",
      "finished reading\n",
      "finished reading\n",
      "finished reading\n",
      "finished reading\n",
      "finished reading\n",
      "finished reading\n",
      "finished reading\n",
      "finished reading\n",
      "finished reading\n",
      "finished reading\n",
      "finished reading\n",
      "finished reading\n",
      "finished reading\n",
      "finished reading\n",
      "finished reading\n",
      "finished reading\n",
      "finished reading\n",
      "finished reading\n",
      "finished reading\n",
      "finished reading\n",
      "finished reading\n",
      "finished reading\n",
      "finished reading\n",
      "finished reading\n",
      "finished reading\n",
      "finished reading\n",
      "finished reading\n",
      "finished reading\n",
      "finished reading\n",
      "finished reading\n",
      "finished reading\n",
      "finished reading\n",
      "finished reading\n",
      "finished reading\n",
      "finished reading\n",
      "finished reading\n",
      "finished reading\n",
      "finished reading\n",
      "finished reading\n",
      "finished reading\n",
      "finished reading\n",
      "finished reading\n",
      "finished reading\n",
      "finished reading\n",
      "finished reading\n",
      "finished reading\n",
      "finished reading\n",
      "finished reading\n",
      "finished reading\n",
      "finished reading\n",
      "finished reading\n",
      "finished reading\n",
      "finished reading\n",
      "finished reading\n",
      "finished reading\n",
      "finished reading\n",
      "finished reading\n",
      "finished reading\n",
      "finished reading\n",
      "finished reading\n",
      "finished reading\n",
      "finished reading\n",
      "finished reading\n",
      "finished reading\n",
      "finished reading\n",
      "finished reading\n",
      "finished reading\n",
      "finished reading\n",
      "finished reading\n",
      "finished reading\n",
      "finished reading\n",
      "finished reading\n",
      "finished reading\n",
      "finished reading\n",
      "finished reading\n",
      "finished reading\n",
      "finished reading\n",
      "finished reading\n",
      "finished reading\n",
      "finished reading\n",
      "finished reading\n",
      "finished reading\n",
      "finished reading\n",
      "finished reading\n",
      "finished reading\n",
      "finished reading\n",
      "finished reading\n",
      "finished reading\n",
      "finished reading\n",
      "finished reading\n",
      "finished reading\n",
      "finished reading\n",
      "finished reading\n",
      "finished reading\n",
      "finished reading\n",
      "finished reading\n",
      "finished reading\n",
      "finished reading\n",
      "finished reading\n",
      "finished reading\n",
      "finished reading\n",
      "finished reading\n",
      "finished reading\n",
      "finished reading\n",
      "finished reading\n",
      "finished reading\n",
      "finished reading\n",
      "finished reading\n",
      "finished reading\n",
      "finished reading\n",
      "finished reading\n",
      "finished reading\n",
      "finished reading\n",
      "finished reading\n",
      "finished reading\n",
      "finished reading\n",
      "finished reading\n",
      "finished reading\n",
      "finished reading\n",
      "finished reading\n",
      "finished reading\n",
      "finished reading\n",
      "finished reading\n",
      "finished reading\n",
      "finished reading\n",
      "finished reading\n",
      "finished reading\n",
      "finished reading\n",
      "finished reading\n",
      "finished reading\n",
      "finished reading\n",
      "finished reading\n",
      "finished reading\n",
      "finished reading\n",
      "finished reading\n",
      "finished reading\n",
      "finished reading\n",
      "finished reading\n",
      "finished reading\n",
      "finished reading\n",
      "finished reading\n",
      "finished reading\n",
      "finished reading\n",
      "finished reading\n",
      "finished reading\n",
      "finished reading\n",
      "finished reading\n",
      "finished reading\n",
      "finished reading\n",
      "finished reading\n",
      "finished reading\n",
      "finished reading\n",
      "finished reading\n",
      "finished reading\n",
      "finished reading\n",
      "finished reading\n",
      "finished reading\n",
      "finished reading\n",
      "finished reading\n",
      "finished reading\n",
      "finished reading\n",
      "finished reading\n",
      "finished reading\n",
      "finished reading\n",
      "finished reading\n",
      "finished reading\n",
      "finished reading\n",
      "finished reading\n",
      "finished reading\n",
      "finished reading\n",
      "finished reading\n",
      "finished reading\n",
      "finished reading\n",
      "finished reading\n",
      "finished reading\n",
      "finished reading\n",
      "finished reading\n",
      "finished reading\n",
      "finished reading\n",
      "finished reading\n",
      "finished reading\n",
      "finished reading\n",
      "finished reading\n",
      "finished reading\n",
      "finished reading\n",
      "finished reading\n",
      "finished reading\n",
      "finished reading\n",
      "finished reading\n",
      "finished reading\n",
      "finished reading\n",
      "finished reading\n",
      "finished reading\n",
      "finished reading\n",
      "finished reading\n",
      "finished reading\n",
      "finished reading\n",
      "finished reading\n",
      "finished reading\n",
      "finished reading\n",
      "finished reading\n",
      "finished reading\n",
      "finished reading\n",
      "finished reading\n",
      "finished reading\n",
      "finished reading\n",
      "finished reading\n",
      "finished reading\n",
      "finished reading\n",
      "finished reading\n",
      "finished reading\n",
      "finished reading\n",
      "finished reading\n",
      "finished reading\n",
      "finished reading\n",
      "finished reading\n",
      "finished reading\n",
      "finished reading\n",
      "finished reading\n",
      "finished reading\n",
      "finished reading\n",
      "finished reading\n",
      "finished reading\n",
      "finished reading\n",
      "finished reading\n",
      "finished reading\n",
      "finished reading\n",
      "finished reading\n",
      "finished reading\n",
      "finished reading\n",
      "finished reading\n",
      "finished reading\n",
      "finished reading\n",
      "finished reading\n",
      "finished reading\n",
      "finished reading\n",
      "finished reading\n",
      "finished reading\n",
      "finished reading\n",
      "finished reading\n",
      "finished reading\n",
      "finished reading\n",
      "finished reading\n",
      "finished reading\n",
      "finished reading\n",
      "finished reading\n",
      "finished reading\n",
      "finished reading\n",
      "finished reading\n",
      "finished reading\n",
      "finished reading\n",
      "finished reading\n",
      "finished reading\n",
      "finished reading\n",
      "finished reading\n",
      "finished reading\n",
      "finished reading\n",
      "finished reading\n",
      "finished reading\n",
      "finished reading\n",
      "finished reading\n",
      "finished reading\n",
      "finished reading\n",
      "finished reading\n",
      "finished reading\n",
      "finished reading\n",
      "finished reading\n",
      "finished reading\n",
      "finished reading\n",
      "finished reading\n",
      "finished reading\n",
      "finished reading\n",
      "finished reading\n",
      "finished reading\n",
      "finished reading\n",
      "finished reading\n",
      "finished reading\n",
      "finished reading\n",
      "finished reading\n",
      "finished reading\n",
      "finished reading\n",
      "finished reading\n",
      "finished reading\n",
      "finished reading\n",
      "finished reading\n",
      "finished reading\n",
      "finished reading\n",
      "finished reading\n",
      "finished reading\n",
      "finished reading\n",
      "finished reading\n",
      "finished reading\n",
      "finished reading\n",
      "finished reading\n",
      "finished reading\n",
      "finished reading\n",
      "finished reading\n",
      "finished reading\n",
      "finished reading\n",
      "finished reading\n",
      "finished reading\n",
      "finished reading\n",
      "finished reading\n",
      "finished reading\n",
      "finished reading\n",
      "finished reading\n",
      "finished reading\n",
      "finished reading\n",
      "finished reading\n",
      "finished reading\n",
      "finished reading\n",
      "finished reading\n",
      "finished reading\n",
      "finished reading\n",
      "finished reading\n",
      "finished reading\n",
      "finished reading\n",
      "finished reading\n",
      "finished reading\n",
      "finished reading\n",
      "finished reading\n",
      "finished reading\n",
      "finished reading\n",
      "finished reading\n",
      "finished reading\n",
      "finished reading\n",
      "finished reading\n",
      "finished reading\n",
      "finished reading\n",
      "finished reading\n",
      "finished reading\n",
      "finished reading\n",
      "finished reading\n",
      "finished reading\n",
      "finished reading\n",
      "finished reading\n",
      "finished reading\n",
      "finished reading\n",
      "finished reading\n",
      "finished reading\n",
      "finished reading\n",
      "finished reading\n",
      "finished reading\n",
      "finished reading\n",
      "finished reading\n",
      "finished reading\n",
      "finished reading\n",
      "finished reading\n",
      "finished reading\n",
      "finished reading\n",
      "finished reading\n",
      "finished reading\n",
      "finished reading\n",
      "finished reading\n",
      "finished reading\n",
      "finished reading\n",
      "finished reading\n",
      "finished reading\n",
      "finished reading\n",
      "finished reading\n",
      "finished reading\n",
      "finished reading\n",
      "finished reading\n",
      "finished reading\n",
      "finished reading\n",
      "finished reading\n",
      "finished reading\n",
      "finished reading\n",
      "finished reading\n",
      "finished reading\n",
      "finished reading\n",
      "timesdict name substitution 23\n",
      "massdict name substitution 23\n"
     ]
    }
   ],
   "source": [
    "mixedlist = ['wall','4student','sides+teach',8,23]\n",
    "timesmixdict = dict.fromkeys(mixedlist)\n",
    "massmixdict = dict.fromkeys(mixedlist)\n",
    "totalsmixdict = dict.fromkeys(mixedlist)\n",
    "zonesmixdict = dict.fromkeys(mixedlist)\n",
    "back = False\n",
    "for elem in mixedlist:\n",
    "    if elem == 'back' and back == False:\n",
    "        back = True\n",
    "    elif elem == 'back' and back == True:\n",
    "        continue\n",
    "    for casename,plist in overalldict.items():\n",
    "        print(casename,plist,elem)\n",
    "        if elem in plist:\n",
    "            zn,td,md,totd = functions.build(casename,[elem])\n",
    "            functions.matchallnames(td,md,zn,[elem])\n",
    "            timesmixdict[elem] = td[elem]\n",
    "            massmixdict[elem] = md[elem]\n",
    "            totalsmixdict[elem] = totd[elem]\n",
    "            zonesmixdict[elem] = zn[elem]\n",
    "            break\n",
    "        else:\n",
    "            print(elem,' not found in mixeddict')"
   ]
  },
  {
   "cell_type": "markdown",
   "metadata": {},
   "source": [
    "### Load data with your casename and your parameter"
   ]
  },
  {
   "cell_type": "code",
   "execution_count": 4,
   "metadata": {
    "scrolled": true,
    "tags": []
   },
   "outputs": [
    {
     "name": "stdout",
     "output_type": "stream",
     "text": [
      "start building...\n",
      "building  back\n",
      "Read zones: npeople_back.zones\n",
      "Reading npeople_back summaries\n",
      "building  back+teach\n",
      "Read zones: npeople_back+teach.zones\n",
      "Reading npeople_back+teach summaries\n",
      "building  front+teach\n",
      "Read zones: npeople_front+teach.zones\n",
      "Reading npeople_front+teach summaries\n",
      "building  sides+teach\n",
      "Read zones: npeople_sides+teach.zones\n",
      "Reading npeople_sides+teach summaries\n",
      "building  all\n",
      "Read zones: npeople_all.zones\n",
      "Reading npeople_all summaries\n",
      "timesdict name substitution back\n",
      "massdict name substitution back\n",
      "timesdict name substitution back+teach\n",
      "massdict name substitution back+teach\n",
      "timesdict name substitution front+teach\n",
      "massdict name substitution front+teach\n",
      "timesdict name substitution sides+teach\n",
      "massdict name substitution sides+teach\n",
      "timesdict name substitution all\n",
      "massdict name substitution all\n"
     ]
    }
   ],
   "source": [
    "zones,timesdict,massdict,totalsdict = functions.build(caseSoc,ncoughpeople)\n",
    "functions.matchallnames(timesdict,massdict,zones,ncoughpeople)"
   ]
  },
  {
   "cell_type": "markdown",
   "metadata": {},
   "source": [
    "## Use function.changekey to change the key name if you want so\n",
    "It might help with the quality of the information that appears in the bar plot tick labels\n",
    "\n",
    "use it with:   ourdict = functions.changekey(ourdict,old_key,new_key)"
   ]
  },
  {
   "cell_type": "code",
   "execution_count": null,
   "metadata": {},
   "outputs": [],
   "source": [
    "newtimesmixdict = functions.changekey(newtimesmixdict,8,'8 Ventilations/h')"
   ]
  },
  {
   "cell_type": "markdown",
   "metadata": {},
   "source": [
    "### Calculate % of total particles and % of total mass for each fate. New columns are 'Particles %' and 'Mass %'"
   ]
  },
  {
   "cell_type": "code",
   "execution_count": 5,
   "metadata": {
    "scrolled": true
   },
   "outputs": [],
   "source": [
    "for key,item in timesdict.items():\n",
    "    #we cannot use item as the dataframe to which apply the operation because item is a copy of the actual dataframe inside the dict\n",
    "    timesdict[key] = functions.percentage(timesdict[key],'Number','Particles',totalsdict[key])\n",
    "    timesdict[key].sort_index(axis=0,level='flowtime',inplace=True)\n",
    "for key,item in massdict.items():\n",
    "    massdict[key] = functions.percentage(massdict[key],'Final','Mass',totalsdict[key])\n",
    "    massdict[key].sort_index(axis=0,level='flowtime',inplace=True)\n",
    "for key,item in totalsdict.items():\n",
    "    totalsdict[key].sort_index(axis=0,level='flowtime',inplace=True)\n",
    "#For single parameter element:\n",
    "#timesdict['2m'] = percentage(timesdict['2m'],'Number','Particles',totalsdict['2m'])\n",
    "#massdict['2m'] = percentage(massdict['2m'],'Final','Mass',totalsdict['2m'])"
   ]
  },
  {
   "cell_type": "markdown",
   "metadata": {},
   "source": [
    "## Same (percentages columns) for mixed dicts"
   ]
  },
  {
   "cell_type": "code",
   "execution_count": 6,
   "metadata": {},
   "outputs": [],
   "source": [
    "for key,item in timesmixdict.items():\n",
    "    #we cannot use item as the dataframe to which apply the operation because item is a copy of the actual dataframe inside the dict\n",
    "    timesmixdict[key] = functions.percentage(timesmixdict[key],'Number','Particles',totalsmixdict[key])\n",
    "    timesmixdict[key].sort_index(axis=0,level='flowtime',inplace=True)\n",
    "for key,item in massmixdict.items():\n",
    "    massmixdict[key] = functions.percentage(massmixdict[key],'Final','Mass',totalsmixdict[key])\n",
    "    massmixdict[key].sort_index(axis=0,level='flowtime',inplace=True)\n",
    "for key,item in totalsmixdict.items():\n",
    "    totalsmixdict[key].sort_index(axis=0,level='flowtime',inplace=True)\n",
    "#For single parameter element:\n",
    "#timesdict['2m'] = percentage(timesdict['2m'],'Number','Particles',totalsdict['2m'])\n",
    "#massdict['2m'] = percentage(massdict['2m'],'Final','Mass',totalsdict['2m'])"
   ]
  },
  {
   "cell_type": "markdown",
   "metadata": {},
   "source": [
    "### Export the state at a chosen instant to LaTeX table. \n",
    "Default number format is 2 decimals. If you need to change it do it inside functions.py or tell me"
   ]
  },
  {
   "cell_type": "code",
   "execution_count": null,
   "metadata": {},
   "outputs": [],
   "source": [
    "toprintcolumns = ['Fate','Number','Particles %']\n",
    "instant = 60\n",
    "#pass whatever instant and list of columns to instant_to_latex\n",
    "functions.instant_to_latex(timesdict,toprintcolumns,instant)"
   ]
  },
  {
   "cell_type": "markdown",
   "metadata": {},
   "source": [
    "### Drop a given list of matches (default is floor surfs, mouths, Escaped,roof/ceiling and 4th row students)\n",
    "Returns the filtered dictionary"
   ]
  },
  {
   "cell_type": "code",
   "execution_count": 7,
   "metadata": {},
   "outputs": [],
   "source": [
    "filterstrings = ['mouth','Trapped '+r'floor\\d{1,2}','Escaped','roof','students_floor4','ceiling']\n",
    "newtimesdict = functions.dropfates(timesdict,filterstrings) #drops all mouths, Escaped and floor surfaces (keeps non-floor zones labeled with floor in their name)\n",
    "newmassdict = functions.dropfates(massdict,filterstrings)"
   ]
  },
  {
   "cell_type": "markdown",
   "metadata": {},
   "source": [
    "#### Same for mixed dict"
   ]
  },
  {
   "cell_type": "code",
   "execution_count": 8,
   "metadata": {
    "tags": []
   },
   "outputs": [],
   "source": [
    "filterstrings = ['mouth','Trapped '+r'floor\\d{1,2}','Escaped','students_floor4','roof','ceiling']\n",
    "newtimesmixdict = functions.dropfates(timesmixdict,filterstrings) #drops all mouths, Escaped and floor surfaces (keeps non-floor zones labeled with floor in their name)\n",
    "newmassmixdict = functions.dropfates(massmixdict,filterstrings)"
   ]
  },
  {
   "cell_type": "code",
   "execution_count": 18,
   "metadata": {},
   "outputs": [
    {
     "data": {
      "text/html": [
       "<div>\n",
       "<style scoped>\n",
       "    .dataframe tbody tr th:only-of-type {\n",
       "        vertical-align: middle;\n",
       "    }\n",
       "\n",
       "    .dataframe tbody tr th {\n",
       "        vertical-align: top;\n",
       "    }\n",
       "\n",
       "    .dataframe thead th {\n",
       "        text-align: right;\n",
       "    }\n",
       "</style>\n",
       "<table border=\"1\" class=\"dataframe\">\n",
       "  <thead>\n",
       "    <tr style=\"text-align: right;\">\n",
       "      <th></th>\n",
       "      <th>Fate</th>\n",
       "      <th>Number</th>\n",
       "      <th>Min</th>\n",
       "      <th>Max</th>\n",
       "      <th>Avg</th>\n",
       "      <th>Stdev</th>\n",
       "      <th>injection</th>\n",
       "      <th>Particles %</th>\n",
       "    </tr>\n",
       "  </thead>\n",
       "  <tbody>\n",
       "    <tr>\n",
       "      <th>4254</th>\n",
       "      <td>inFluid</td>\n",
       "      <td>27219</td>\n",
       "      <td>59.5100</td>\n",
       "      <td>60.00</td>\n",
       "      <td>59.780</td>\n",
       "      <td>0.1224</td>\n",
       "      <td>back</td>\n",
       "      <td>79.587719</td>\n",
       "    </tr>\n",
       "    <tr>\n",
       "      <th>4255</th>\n",
       "      <td>Trapped desks_floor4</td>\n",
       "      <td>1056</td>\n",
       "      <td>5.0860</td>\n",
       "      <td>59.54</td>\n",
       "      <td>28.490</td>\n",
       "      <td>19.3300</td>\n",
       "      <td>back</td>\n",
       "      <td>3.087719</td>\n",
       "    </tr>\n",
       "    <tr>\n",
       "      <th>4256</th>\n",
       "      <td>Trapped floor34</td>\n",
       "      <td>11</td>\n",
       "      <td>19.9300</td>\n",
       "      <td>58.22</td>\n",
       "      <td>41.030</td>\n",
       "      <td>10.4500</td>\n",
       "      <td>back</td>\n",
       "      <td>0.032164</td>\n",
       "    </tr>\n",
       "    <tr>\n",
       "      <th>4257</th>\n",
       "      <td>Trapped floor4</td>\n",
       "      <td>21</td>\n",
       "      <td>16.3500</td>\n",
       "      <td>57.23</td>\n",
       "      <td>24.320</td>\n",
       "      <td>11.4100</td>\n",
       "      <td>back</td>\n",
       "      <td>0.061404</td>\n",
       "    </tr>\n",
       "    <tr>\n",
       "      <th>4258</th>\n",
       "      <td>Escaped floor_outlets</td>\n",
       "      <td>7</td>\n",
       "      <td>22.4700</td>\n",
       "      <td>26.35</td>\n",
       "      <td>25.270</td>\n",
       "      <td>1.2670</td>\n",
       "      <td>back</td>\n",
       "      <td>0.020468</td>\n",
       "    </tr>\n",
       "    <tr>\n",
       "      <th>4259</th>\n",
       "      <td>Trapped mouth_coughing_student</td>\n",
       "      <td>2892</td>\n",
       "      <td>0.0000</td>\n",
       "      <td>57.80</td>\n",
       "      <td>4.482</td>\n",
       "      <td>7.4190</td>\n",
       "      <td>back</td>\n",
       "      <td>8.45614</td>\n",
       "    </tr>\n",
       "    <tr>\n",
       "      <th>4260</th>\n",
       "      <td>Escaped outlet_back</td>\n",
       "      <td>74</td>\n",
       "      <td>50.3400</td>\n",
       "      <td>59.87</td>\n",
       "      <td>55.210</td>\n",
       "      <td>2.8020</td>\n",
       "      <td>back</td>\n",
       "      <td>0.216374</td>\n",
       "    </tr>\n",
       "    <tr>\n",
       "      <th>4261</th>\n",
       "      <td>Trapped roof</td>\n",
       "      <td>4</td>\n",
       "      <td>41.4100</td>\n",
       "      <td>55.94</td>\n",
       "      <td>51.840</td>\n",
       "      <td>6.0600</td>\n",
       "      <td>back</td>\n",
       "      <td>0.011696</td>\n",
       "    </tr>\n",
       "    <tr>\n",
       "      <th>4262</th>\n",
       "      <td>Trapped students_floor3</td>\n",
       "      <td>267</td>\n",
       "      <td>2.7490</td>\n",
       "      <td>43.84</td>\n",
       "      <td>8.437</td>\n",
       "      <td>8.5250</td>\n",
       "      <td>back</td>\n",
       "      <td>0.780702</td>\n",
       "    </tr>\n",
       "    <tr>\n",
       "      <th>4263</th>\n",
       "      <td>Trapped students_floor4</td>\n",
       "      <td>2649</td>\n",
       "      <td>0.1834</td>\n",
       "      <td>59.80</td>\n",
       "      <td>17.450</td>\n",
       "      <td>18.6000</td>\n",
       "      <td>back</td>\n",
       "      <td>7.745614</td>\n",
       "    </tr>\n",
       "  </tbody>\n",
       "</table>\n",
       "</div>"
      ],
      "text/plain": [
       "                                Fate Number      Min    Max     Avg    Stdev  \\\n",
       "4254                         inFluid  27219  59.5100  60.00  59.780   0.1224   \n",
       "4255            Trapped desks_floor4   1056   5.0860  59.54  28.490  19.3300   \n",
       "4256                 Trapped floor34     11  19.9300  58.22  41.030  10.4500   \n",
       "4257                  Trapped floor4     21  16.3500  57.23  24.320  11.4100   \n",
       "4258           Escaped floor_outlets      7  22.4700  26.35  25.270   1.2670   \n",
       "4259  Trapped mouth_coughing_student   2892   0.0000  57.80   4.482   7.4190   \n",
       "4260             Escaped outlet_back     74  50.3400  59.87  55.210   2.8020   \n",
       "4261                    Trapped roof      4  41.4100  55.94  51.840   6.0600   \n",
       "4262         Trapped students_floor3    267   2.7490  43.84   8.437   8.5250   \n",
       "4263         Trapped students_floor4   2649   0.1834  59.80  17.450  18.6000   \n",
       "\n",
       "     injection Particles %  \n",
       "4254      back   79.587719  \n",
       "4255      back    3.087719  \n",
       "4256      back    0.032164  \n",
       "4257      back    0.061404  \n",
       "4258      back    0.020468  \n",
       "4259      back     8.45614  \n",
       "4260      back    0.216374  \n",
       "4261      back    0.011696  \n",
       "4262      back    0.780702  \n",
       "4263      back    7.745614  "
      ]
     },
     "execution_count": 18,
     "metadata": {},
     "output_type": "execute_result"
    }
   ],
   "source": [
    "timesmixdict[8].loc[60]"
   ]
  },
  {
   "cell_type": "code",
   "execution_count": 16,
   "metadata": {},
   "outputs": [
    {
     "data": {
      "text/html": [
       "<div>\n",
       "<style scoped>\n",
       "    .dataframe tbody tr th:only-of-type {\n",
       "        vertical-align: middle;\n",
       "    }\n",
       "\n",
       "    .dataframe tbody tr th {\n",
       "        vertical-align: top;\n",
       "    }\n",
       "\n",
       "    .dataframe thead th {\n",
       "        text-align: right;\n",
       "    }\n",
       "</style>\n",
       "<table border=\"1\" class=\"dataframe\">\n",
       "  <thead>\n",
       "    <tr style=\"text-align: right;\">\n",
       "      <th></th>\n",
       "      <th>Fate</th>\n",
       "      <th>Number</th>\n",
       "      <th>Min</th>\n",
       "      <th>Max</th>\n",
       "      <th>Avg</th>\n",
       "      <th>Stdev</th>\n",
       "      <th>injection</th>\n",
       "      <th>Particles %</th>\n",
       "    </tr>\n",
       "  </thead>\n",
       "  <tbody>\n",
       "    <tr>\n",
       "      <th>3935</th>\n",
       "      <td>inFluid</td>\n",
       "      <td>3618</td>\n",
       "      <td>59.510000</td>\n",
       "      <td>60.00</td>\n",
       "      <td>59.720</td>\n",
       "      <td>0.1716</td>\n",
       "      <td>back</td>\n",
       "      <td>10.578947</td>\n",
       "    </tr>\n",
       "    <tr>\n",
       "      <th>3936</th>\n",
       "      <td>Trapped desks_floor4</td>\n",
       "      <td>324</td>\n",
       "      <td>0.056920</td>\n",
       "      <td>56.66</td>\n",
       "      <td>15.650</td>\n",
       "      <td>14.8000</td>\n",
       "      <td>back</td>\n",
       "      <td>0.947368</td>\n",
       "    </tr>\n",
       "    <tr>\n",
       "      <th>3941</th>\n",
       "      <td>Trapped mask</td>\n",
       "      <td>2</td>\n",
       "      <td>28.600000</td>\n",
       "      <td>42.54</td>\n",
       "      <td>35.570</td>\n",
       "      <td>6.9720</td>\n",
       "      <td>back</td>\n",
       "      <td>0.005848</td>\n",
       "    </tr>\n",
       "    <tr>\n",
       "      <th>3942</th>\n",
       "      <td>Trapped mask-shadow</td>\n",
       "      <td>7953</td>\n",
       "      <td>0.000112</td>\n",
       "      <td>59.45</td>\n",
       "      <td>1.568</td>\n",
       "      <td>7.9380</td>\n",
       "      <td>back</td>\n",
       "      <td>23.254386</td>\n",
       "    </tr>\n",
       "  </tbody>\n",
       "</table>\n",
       "</div>"
      ],
      "text/plain": [
       "                      Fate Number        Min    Max     Avg    Stdev  \\\n",
       "3935               inFluid   3618  59.510000  60.00  59.720   0.1716   \n",
       "3936  Trapped desks_floor4    324   0.056920  56.66  15.650  14.8000   \n",
       "3941          Trapped mask      2  28.600000  42.54  35.570   6.9720   \n",
       "3942   Trapped mask-shadow   7953   0.000112  59.45   1.568   7.9380   \n",
       "\n",
       "     injection Particles %  \n",
       "3935      back   10.578947  \n",
       "3936      back    0.947368  \n",
       "3941      back    0.005848  \n",
       "3942      back   23.254386  "
      ]
     },
     "execution_count": 16,
     "metadata": {},
     "output_type": "execute_result"
    }
   ],
   "source": [
    "newtimesmixdict['wall'].loc[60]"
   ]
  },
  {
   "cell_type": "markdown",
   "metadata": {},
   "source": [
    "### Plot against parameter"
   ]
  },
  {
   "cell_type": "code",
   "execution_count": null,
   "metadata": {},
   "outputs": [],
   "source": [
    "functions.plotagainstparam(timesdict,'Particles %','Trapped',40,'Trapped')\n",
    "functions.plotagainstparam(timesdict,'Particles %','Fluid',40,'in Fluid')\n",
    "plt.legend()\n",
    "plt.title('Trapped particles in %')"
   ]
  },
  {
   "cell_type": "markdown",
   "metadata": {},
   "source": [
    "## BAR PLOT EXAMPLE\n",
    "### --------------------------------------"
   ]
  },
  {
   "cell_type": "code",
   "execution_count": null,
   "metadata": {},
   "outputs": [],
   "source": [
    "fates = ['desk','student','inFluid','Trapped teacher']\n",
    "x = np.arange(len(newtimesdict.keys()))\n",
    "instant = 60\n",
    "fix,ax,handles,bars = functions.barplot(newtimesdict,'Particles %',instant,fates)\n",
    "ax.set_xticks(x)\n",
    "ax.set_xticklabels(newtimesdict.keys())\n",
    "ax.set_ylabel('Particles %')\n",
    "ax.set_title('Fate of particles at t=' + str(instant))\n",
    "ax.legend(bbox_to_anchor=(0.4,0.5,0.4,0.5),loc='best')\n",
    "plt.savefig('socrabars.pdf')"
   ]
  },
  {
   "cell_type": "markdown",
   "metadata": {},
   "source": [
    "#### Same for mixed dict"
   ]
  },
  {
   "cell_type": "code",
   "execution_count": 11,
   "metadata": {},
   "outputs": [
    {
     "name": "stdout",
     "output_type": "stream",
     "text": [
      "The function returns figure handle, ax.handles in a dict and bar lists in a dict with the passed fates as keys\n",
      "Example: fig,ax,handles,bars = barplot(timesdict,\"Particles %\",60,[\"desk\",\"in Fluid\",\"Escaped\",\"student\"]\n",
      "                                                                ^                      ^\n",
      "                                                                |                      |\n",
      "                                                               instant     list of fates/surfaces to search for\n",
      "--------------------------------------------------------------------------------\n",
      "Useful Commands:\n",
      "ax.set_ylabel()\n",
      "ax.set_title()\n",
      "ax.set_xticks()\n",
      "ax.set_xtickslabels\n",
      "ax.legend()\n",
      "ax.bar_label(handles[fate],padding=3)\n",
      "plt.show()\n"
     ]
    },
    {
     "data": {
      "image/png": "[encoded data removed]",
      "text/plain": [
       "<Figure size 432x288 with 1 Axes>"
      ]
     },
     "metadata": {
      "needs_background": "light"
     },
     "output_type": "display_data"
    }
   ],
   "source": [
    "fates = ['Trapped student','Fluid','Trapped mask','Trapped teacher','Trapped desk']\n",
    "x = 1.5*np.arange(len(newtimesmixdict.keys()))\n",
    "instant = 60\n",
    "fix,ax,handles,bars = functions.barplot(newtimesmixdict,'Particles %',instant,fates)\n",
    "ax.set_xticks(x)\n",
    "ax.set_xticklabels(newtimesmixdict.keys())\n",
    "ax.set_ylabel('Particles %')\n",
    "ax.set_title('Fate of particles at t=' + str(instant))\n",
    "ax.legend(bbox_to_anchor=(0.56,0.5,0.3,0.5),loc='best')\n",
    "plt.savefig('mixedbars.pdf')"
   ]
  },
  {
   "cell_type": "code",
   "execution_count": 6,
   "metadata": {},
   "outputs": [],
   "source": [
    "newtimesmixdict = functions.changekey(newtimesmixdict,8,'8 ventl./h')\n",
    "newtimesmixdict = functions.changekey(newtimesmixdict,23,'23ºC')\n",
    "newtimesmixdict = functions.changekey(newtimesmixdict,'wall','with Mask')\n",
    "newtimesmixdict = functions.changekey(newtimesmixdict,'4student','4m dist')"
   ]
  },
  {
   "cell_type": "code",
   "execution_count": null,
   "metadata": {},
   "outputs": [],
   "source": [
    "newtimesmixdict['wall']"
   ]
  },
  {
   "cell_type": "code",
   "execution_count": 23,
   "metadata": {},
   "outputs": [
    {
     "data": {
      "text/plain": [
       "array([0. , 1.5, 3. , 4.5, 6. ])"
      ]
     },
     "execution_count": 23,
     "metadata": {},
     "output_type": "execute_result"
    }
   ],
   "source": [
    "1.5*np.arange(5)"
   ]
  },
  {
   "cell_type": "markdown",
   "metadata": {},
   "source": [
    "## Time Evolution plot\n",
    "## -----------------------------"
   ]
  },
  {
   "cell_type": "code",
   "execution_count": null,
   "metadata": {},
   "outputs": [],
   "source": [
    "fates = ['Fluid'] #,'desk','teacher','student'\n",
    "functions.plotagainsttime(timesdict,fates,mix=True,savefig=False)"
   ]
  },
  {
   "cell_type": "markdown",
   "metadata": {},
   "source": [
    "#### Same for mixed"
   ]
  },
  {
   "cell_type": "code",
   "execution_count": null,
   "metadata": {
    "scrolled": true
   },
   "outputs": [],
   "source": [
    "fates = ['inFluid']\n",
    "functions.plotagainsttime(newtimesmixdict,fates,mix=True,savefig=True)\n",
    "#If you pass mix=False there will be one figure for every key (wall,side+teach,etc)\n",
    "#If you pass mix=True everything will be plotted in one figure\n",
    "#savefig=False deactivate list\n"
   ]
  },
  {
   "cell_type": "markdown",
   "metadata": {},
   "source": [
    "### Other things"
   ]
  },
  {
   "cell_type": "code",
   "execution_count": 16,
   "metadata": {},
   "outputs": [],
   "source": [
    "fates = timesdict['back+teach'].loc[60,'Fate'].append(timesdict['sides+teach'].loc[60,'Fate'],ignore_index=True).drop_duplicates()"
   ]
  },
  {
   "cell_type": "code",
   "execution_count": 112,
   "metadata": {},
   "outputs": [],
   "source": [
    "df = timesdict['back+teach'].loc[60]\n",
    "col = 'Particles %'\n",
    "instant = 60\n",
    "matrix = np.empty((len(fates),len(list(timesdict.keys()))))\n",
    "#print(matrix)\n",
    "result = [df[col].loc[df.Fate == x].iloc[0] if (df.Fate == x).any() else np.nan for x in fates]"
   ]
  },
  {
   "cell_type": "code",
   "execution_count": null,
   "metadata": {},
   "outputs": [],
   "source": [
    "k = list(resultdict.keys())\n",
    "    level = [col+' at t='+str(instant)+'s'] * len(k)\n",
    "    tuples = zip(level,k)\n",
    "    index = pd.MultiIndex.from_tuples(tuples,names=[\"Value\",\"Case\"])\n",
    "    array = [np.array(level),np.array(k)]\n",
    "    \n",
    "    df = pd.DataFrame(columns=index)"
   ]
  },
  {
   "cell_type": "code",
   "execution_count": 9,
   "metadata": {},
   "outputs": [],
   "source": [
    "def colacrossparam(resultdict,instant,col='Particles %',to_latex=False):\n",
    "    fates = pd.Series(dtype='string')\n",
    "    k = list(resultdict.keys())\n",
    "    k.insert(0,'Fate')\n",
    "    level = [col] * len(k)\n",
    "    tuples = zip(level,k)\n",
    "    index = pd.MultiIndex.from_tuples(tuples)\n",
    "    resultdf = pd.DataFrame(columns=index)\n",
    "    idx = pd.IndexSlice\n",
    "    #print(resultdf)\n",
    "    for key,df in resultdict.items():\n",
    "        fates = fates.append(df.loc[instant,'Fate'],ignore_index=True)\n",
    "        fates = fates.drop_duplicates()\n",
    "    fates.reset_index(drop=True,inplace=True)\n",
    "    #print(fates)\n",
    "    for key,df in resultdict.items():\n",
    "        dfinst = df.loc[instant]\n",
    "        result = [dfinst[col].loc[dfinst.Fate == x].iloc[0] if (dfinst.Fate == x).any() else '-' for x in fates]\n",
    "        resultdf.loc[:,idx[col,key]] = result\n",
    "    resultdf.loc[:,idx[col,'Fate']] = fates\n",
    "    return resultdf"
   ]
  },
  {
   "cell_type": "code",
   "execution_count": 10,
   "metadata": {},
   "outputs": [],
   "source": [
    "resdf = colacrossparam(timesdict,60)\n",
    "#resdf.to_latex(buf='prueba',float_format=\"f{:0.2f}\".format,index=False)"
   ]
  },
  {
   "cell_type": "code",
   "execution_count": 38,
   "metadata": {},
   "outputs": [
    {
     "data": {
      "text/plain": [
       "pandas.core.indexes.multi.MultiIndex"
      ]
     },
     "execution_count": 38,
     "metadata": {},
     "output_type": "execute_result"
    }
   ],
   "source": [
    "type(resdf.columns)"
   ]
  },
  {
   "cell_type": "code",
   "execution_count": 55,
   "metadata": {},
   "outputs": [
    {
     "data": {
      "text/plain": [
       "pandas.core.indexes.base.Index"
      ]
     },
     "execution_count": 55,
     "metadata": {},
     "output_type": "execute_result"
    }
   ],
   "source": [
    "type(timesdict['back'].columns)"
   ]
  },
  {
   "cell_type": "code",
   "execution_count": 52,
   "metadata": {},
   "outputs": [
    {
     "data": {
      "text/plain": [
       "Index(['Fate', 'all', 'back', 'back+teach', 'front+teach', 'sides+teach'], dtype='object')"
      ]
     },
     "execution_count": 52,
     "metadata": {},
     "output_type": "execute_result"
    }
   ],
   "source": [
    "resdf.columns.levels[1]"
   ]
  },
  {
   "cell_type": "code",
   "execution_count": null,
   "metadata": {},
   "outputs": [],
   "source": [
    "resdf[~resdf.loc[]]"
   ]
  },
  {
   "cell_type": "code",
   "execution_count": 41,
   "metadata": {},
   "outputs": [
    {
     "data": {
      "text/html": [
       "<div>\n",
       "<style scoped>\n",
       "    .dataframe tbody tr th:only-of-type {\n",
       "        vertical-align: middle;\n",
       "    }\n",
       "\n",
       "    .dataframe tbody tr th {\n",
       "        vertical-align: top;\n",
       "    }\n",
       "\n",
       "    .dataframe thead tr th {\n",
       "        text-align: left;\n",
       "    }\n",
       "</style>\n",
       "<table border=\"1\" class=\"dataframe\">\n",
       "  <thead>\n",
       "    <tr>\n",
       "      <th></th>\n",
       "      <th colspan=\"6\" halign=\"left\">Particles %</th>\n",
       "    </tr>\n",
       "    <tr>\n",
       "      <th></th>\n",
       "      <th>Fate</th>\n",
       "      <th>back</th>\n",
       "      <th>back+teach</th>\n",
       "      <th>front+teach</th>\n",
       "      <th>sides+teach</th>\n",
       "      <th>all</th>\n",
       "    </tr>\n",
       "  </thead>\n",
       "  <tbody>\n",
       "    <tr>\n",
       "      <th>0</th>\n",
       "      <td>inFluid</td>\n",
       "      <td>73.25731</td>\n",
       "      <td>85.986207</td>\n",
       "      <td>39.881114</td>\n",
       "      <td>51.424405</td>\n",
       "      <td>76.881072</td>\n",
       "    </tr>\n",
       "    <tr>\n",
       "      <th>17</th>\n",
       "      <td>Escaped floor_outlets</td>\n",
       "      <td>-</td>\n",
       "      <td>-</td>\n",
       "      <td>-</td>\n",
       "      <td>0.003571</td>\n",
       "      <td>0.000419</td>\n",
       "    </tr>\n",
       "  </tbody>\n",
       "</table>\n",
       "</div>"
      ],
      "text/plain": [
       "              Particles %                                               \\\n",
       "                     Fate      back back+teach front+teach sides+teach   \n",
       "0                 inFluid  73.25731  85.986207   39.881114   51.424405   \n",
       "17  Escaped floor_outlets         -          -           -    0.003571   \n",
       "\n",
       "               \n",
       "          all  \n",
       "0   76.881072  \n",
       "17   0.000419  "
      ]
     },
     "execution_count": 41,
     "metadata": {},
     "output_type": "execute_result"
    }
   ],
   "source": [
    "resdf[~resdf.loc[:,idx[:,'Fate']].squeeze().str.contains('Trapped')]"
   ]
  },
  {
   "cell_type": "raw",
   "metadata": {},
   "source": [
    "ndf = functions.column_across_param(timesdict,'Particles %',60,latex=False)"
   ]
  },
  {
   "cell_type": "code",
   "execution_count": 32,
   "metadata": {},
   "outputs": [],
   "source": [
    "idx = pd.IndexSlice"
   ]
  },
  {
   "cell_type": "code",
   "execution_count": 111,
   "metadata": {},
   "outputs": [
    {
     "data": {
      "text/plain": [
       "Series([], Name: (Particles % at t=60s, back+teach), dtype: object)"
      ]
     },
     "execution_count": 111,
     "metadata": {},
     "output_type": "execute_result"
    }
   ],
   "source": [
    "ndf.loc[:,idx['Particles % at t=60s','back+teach']]"
   ]
  },
  {
   "cell_type": "code",
   "execution_count": 31,
   "metadata": {},
   "outputs": [
    {
     "data": {
      "text/plain": [
       "False"
      ]
     },
     "execution_count": 31,
     "metadata": {},
     "output_type": "execute_result"
    }
   ],
   "source": [
    "'inFluid' in df.Fate[:]"
   ]
  },
  {
   "cell_type": "code",
   "execution_count": 34,
   "metadata": {},
   "outputs": [
    {
     "data": {
      "text/plain": [
       "True"
      ]
     },
     "execution_count": 34,
     "metadata": {},
     "output_type": "execute_result"
    }
   ],
   "source": [
    "(df.Fate == 'inFluid').any()"
   ]
  },
  {
   "cell_type": "code",
   "execution_count": 113,
   "metadata": {},
   "outputs": [],
   "source": [
    "ndf.loc[:,idx['Particles % at t=60s','back+teach']] = result"
   ]
  },
  {
   "cell_type": "code",
   "execution_count": null,
   "metadata": {
    "scrolled": true
   },
   "outputs": [],
   "source": [
    "column_across_param(timesdict,'Number',60)"
   ]
  },
  {
   "cell_type": "markdown",
   "metadata": {},
   "source": [
    "# EXAMPLES ON HOW TO ACCESS THE DATA:"
   ]
  },
  {
   "cell_type": "code",
   "execution_count": null,
   "metadata": {},
   "outputs": [],
   "source": [
    "timesdict['sides+teach'].loc[timesdict['sides+teach'].Fate.str.contains(fr\"desk\",regex=True)]"
   ]
  },
  {
   "cell_type": "code",
   "execution_count": null,
   "metadata": {},
   "outputs": [],
   "source": [
    "massdict['2m'].loc[60]"
   ]
  },
  {
   "cell_type": "code",
   "execution_count": null,
   "metadata": {},
   "outputs": [],
   "source": [
    "totalsdict"
   ]
  },
  {
   "cell_type": "code",
   "execution_count": null,
   "metadata": {},
   "outputs": [],
   "source": [
    "massdict['4m']['Mass %']"
   ]
  },
  {
   "cell_type": "code",
   "execution_count": null,
   "metadata": {},
   "outputs": [],
   "source": [
    "timesdict['2m'].loc[0.6,'Particles %']"
   ]
  },
  {
   "cell_type": "markdown",
   "metadata": {},
   "source": [
    "### Print several documentations (out of date though)"
   ]
  },
  {
   "cell_type": "code",
   "execution_count": null,
   "metadata": {},
   "outputs": [],
   "source": [
    "print('READ_RESULTS INSTRUCTIONS')\n",
    "print('----------------------------------------------')\n",
    "print(read_results.__doc__)\n",
    "print('-----------------------------------------------')\n",
    "print('')\n",
    "print('PERCENTAGE INSTRUCTIONS')\n",
    "print('----------------------------------------------')\n",
    "print(percentage.__doc__)\n",
    "print('-----------------------------------------------')\n",
    "print('')\n",
    "print('PLOT AGAINST PARAM INSTRUCTIONS')\n",
    "print('----------------------------------------------')\n",
    "print(plotagainstparam.__doc__)\n",
    "print('MATCHNAMES INSTRUCTIONS')\n",
    "print('----------------------------------------------')\n",
    "print(readers.matchnames.__doc__)"
   ]
  }
 ],
 "metadata": {
  "kernelspec": {
   "display_name": "Python 3",
   "language": "python",
   "name": "python3"
  },
  "language_info": {
   "codemirror_mode": {
    "name": "ipython",
    "version": 3
   },
   "file_extension": ".py",
   "mimetype": "text/x-python",
   "name": "python",
   "nbconvert_exporter": "python",
   "pygments_lexer": "ipython3",
   "version": "3.9.3"
  }
 },
 "nbformat": 4,
 "nbformat_minor": 4
}
