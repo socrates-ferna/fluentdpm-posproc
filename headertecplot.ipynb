{
 "cells": [
  {
   "cell_type": "code",
   "execution_count": null,
   "id": "9025abfa",
   "metadata": {},
   "outputs": [],
   "source": [
    "#import pandas as pd\n",
    "#import csv\n",
    "#import os\n",
    "from glob import glob\n",
    "import re\n",
    "from sys import argv"
   ]
  },
  {
   "cell_type": "code",
   "execution_count": null,
   "id": "bc507cde",
   "metadata": {},
   "outputs": [],
   "source": [
    "tecvars = ['Residence Time', 'X', 'Y', 'Z', 'U', 'V', 'W', 'Diameter', 'id']"
   ]
  },
  {
   "cell_type": "code",
   "execution_count": null,
   "id": "a7154321",
   "metadata": {
    "tags": []
   },
   "outputs": [],
   "source": [
    "def main(casename):\n",
    "    counter = 0\n",
    "    paste = False\n",
    "    digit = re.compile(\"\\d\")\n",
    "    search = casename + '*'\n",
    "    for name in glob(search):\n",
    "        print('Input File: ', name)\n",
    "        timestr = name.removesuffix('.dat').removeprefix(casename) #here prefix will be casename in final version\n",
    "        time = round(float(timestr),2)\n",
    "        timestr = str(time)\n",
    "        roundname = casename + timestr + '.dat'\n",
    "        #print(roundname)\n",
    "        with open('tec_' + roundname,'a') as fout:\n",
    "            print('Output File: ', 'tec_' + roundname)\n",
    "            fout.write('TITLE = \"PARTICLE HISTORY\"\\n')\n",
    "            fout.write('VARIABLES = ' + ','.join(['\"' + x + '\"' for x in tecvars]) + '\\n')\n",
    "            fout.write('ZONE T = \"Particles\",' + 'STRANDID = 50,' + 'SOLUTIONTIME = ' + timestr + ',DT = (' + ' '.join(['DOUBLE']*len(tecvars)) + ')\\n')\n",
    "            with open(name,'r') as fin:\n",
    "                for line in fin:\n",
    "                    #print(line+ str(counter))\n",
    "                    #counter += 1\n",
    "                    if not paste:\n",
    "                        if digit.search(line[0]) :\n",
    "                            paste = True\n",
    "                            continue\n",
    "                    else:\n",
    "                        fout.write(line)\n",
    "        paste = False\n",
    "        print('done')"
   ]
  },
  {
   "cell_type": "code",
   "execution_count": null,
   "id": "fa5b24d5",
   "metadata": {},
   "outputs": [],
   "source": [
    "if __name__ == \"__main__\":\n",
    "    main(argv[1])\n",
    "else:\n",
    "    print('import tecplot formatter')"
   ]
  },
  {
   "cell_type": "code",
   "execution_count": null,
   "id": "3bf4afa9",
   "metadata": {},
   "outputs": [],
   "source": []
  }
 ],
 "metadata": {
  "kernelspec": {
   "display_name": "Python 3",
   "language": "python",
   "name": "python3"
  },
  "language_info": {
   "codemirror_mode": {
    "name": "ipython",
    "version": 3
   },
   "file_extension": ".py",
   "mimetype": "text/x-python",
   "name": "python",
   "nbconvert_exporter": "python",
   "pygments_lexer": "ipython3",
   "version": "3.9.3"
  }
 },
 "nbformat": 4,
 "nbformat_minor": 5
}
