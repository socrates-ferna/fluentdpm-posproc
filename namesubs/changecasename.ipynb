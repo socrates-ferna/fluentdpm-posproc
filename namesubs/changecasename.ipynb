{
 "cells": [
  {
   "cell_type": "code",
   "execution_count": 7,
   "id": "f16f9548",
   "metadata": {},
   "outputs": [],
   "source": [
    "import os\n",
    "#import re\n",
    "import glob\n",
    "import sys"
   ]
  },
  {
   "cell_type": "code",
   "execution_count": 18,
   "id": "aa3883a7",
   "metadata": {},
   "outputs": [],
   "source": [
    "def main():\n",
    "    argv = ['dummy','full_room_distance','base_back']\n",
    "    instrlist = ['*'+argv[1]+'*.sum','*'+argv[1]+'*.zones','*'+argv[1]+'*.dat']\n",
    "    #outstr = r'*'+argv[2]+'*.sum'\n",
    "    for instr in instrlist:\n",
    "        print(instr)\n",
    "        for old in glob.glob(instr):\n",
    "            print('Input File', old)\n",
    "            outstr = old.replace(argv[1],argv[2])\n",
    "            print('Output File:', outstr)\n",
    "            os.rename(old,outstr)\n",
    "    return print('done')"
   ]
  },
  {
   "cell_type": "code",
   "execution_count": null,
   "id": "3b3fd0fb",
   "metadata": {},
   "outputs": [],
   "source": [
    "if __name__ == \"__main__\":\n",
    "    main()\n",
    "else:\n",
    "    print('import as module')"
   ]
  }
 ],
 "metadata": {
  "kernelspec": {
   "display_name": "Python 3",
   "language": "python",
   "name": "python3"
  },
  "language_info": {
   "codemirror_mode": {
    "name": "ipython",
    "version": 3
   },
   "file_extension": ".py",
   "mimetype": "text/x-python",
   "name": "python",
   "nbconvert_exporter": "python",
   "pygments_lexer": "ipython3",
   "version": "3.9.3"
  }
 },
 "nbformat": 4,
 "nbformat_minor": 5
}
