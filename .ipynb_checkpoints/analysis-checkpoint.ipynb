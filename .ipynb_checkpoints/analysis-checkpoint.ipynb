{
 "cells": [
  {
   "cell_type": "code",
   "execution_count": 2,
   "metadata": {},
   "outputs": [],
   "source": [
    "import readers\n",
    "from functions import plotagainstparam, percentage, read_results\n",
    "import pandas as pd\n",
    "import csv\n",
    "import matplotlib.pyplot as plt"
   ]
  },
  {
   "cell_type": "code",
   "execution_count": 7,
   "metadata": {
    "tags": []
   },
   "outputs": [],
   "source": [
    "#Social distancing example study\n",
    "distance = [2,4]\n",
    "ncoughpeople = [1,2,4]\n",
    "renewalshour = [1,3,5]\n",
    "masks = ['No_mask', 'Mask']\n",
    "roomtemp = [288,298,308]\n",
    "exposuretime = [60,120,240]\n",
    "case = 'prueba_'"
   ]
  },
  {
   "cell_type": "code",
   "execution_count": 8,
   "metadata": {},
   "outputs": [],
   "source": [
    "def read_results(casename,zonesfile,paramlist):\n",
    "    zones = readers.read_zones(zonesfile)\n",
    "    masslist = []\n",
    "    timeslist = []\n",
    "    tdict = {}\n",
    "    mdict = {}\n",
    "    totalsdict = {}\n",
    "    for i in paramlist:\n",
    "        timesdf, massdf, totals = readers.dpm_reader(casename + str(i) + '.sum')\n",
    "        masslist.append(massdf)\n",
    "        timeslist.append(timesdf)\n",
    "        totalsdict[i] = totals\n",
    "    tdict = dict(zip(paramlist,timeslist))\n",
    "    mdict = dict(zip(paramlist,masslist))\n",
    "    return zones, tdict, mdict, totalsdict"
   ]
  },
  {
   "cell_type": "code",
   "execution_count": 9,
   "metadata": {},
   "outputs": [
    {
     "name": "stdout",
     "output_type": "stream",
     "text": [
      "['2', 'unspecified', 'fluid', 'air', 'cell']\n",
      "['6', 'mouth_teacher', 'wall', 'air', 'face']\n",
      "['5', 'mouth_student', 'wall', 'air', 'face']\n",
      "['13', 'ventilation_outlet', 'mass-flow-outlet', 'dummy', 'face']\n",
      "['3', 'interior-unspecified', 'interior', 'dummy', 'face']\n",
      "['4', 'desk', 'wall', 'air', 'face']\n",
      "['7', 'room_ceiling', 'wall', 'air', 'face']\n",
      "['8', 'room_floor', 'wall', 'air', 'face']\n",
      "['9', 'room_walls', 'wall', 'air', 'face']\n",
      "['10', 'student', 'wall', 'air', 'face']\n",
      "['11', 'teacher', 'wall', 'air', 'face']\n",
      "['12', 'ventilation_inlet', 'mass-flow-inlet', 'dummy', 'face']\n",
      "Unconsidered Fate: ['----', '------', '----------']\n",
      "Unconsidered Fate: ['----', '------']\n",
      "Unconsidered Fate: ['Net', '77952']\n",
      "COUNTER IS 2\n",
      "ignore line []\n",
      "ignore line []\n",
      "ignore line ['Fate', 'Mass', '(kg)']\n",
      "ignore line ['Net', '1.305e-03', '3.855e-04', '-9.195e-04']\n",
      "finished reading\n",
      "Unconsidered Fate: ['----', '------', '----------']\n",
      "Unconsidered Fate: ['----', '------']\n",
      "Unconsidered Fate: ['Net', '64512']\n",
      "COUNTER IS 2\n",
      "ignore line []\n",
      "ignore line []\n",
      "ignore line ['Fate', 'Mass', '(kg)']\n",
      "ignore line ['Net', '1.080e-03', '3.338e-04', '-7.462e-04']\n",
      "finished reading\n"
     ]
    }
   ],
   "source": [
    "zones, timesdict, massdict, totalsdict = read_results(case, 'zones', distance)"
   ]
  },
  {
   "cell_type": "code",
   "execution_count": 10,
   "metadata": {},
   "outputs": [
    {
     "data": {
      "text/plain": [
       "{2:          Fate  Number       Min       Max       Avg     Stdev injection\n",
       " 1  Evaporated   36479  0.001789  0.035000  0.010880  0.007135       h2o\n",
       " 2     inFluid   41472  0.000000  0.070000  0.030250  0.021520       h2o\n",
       " 3           6       1  0.004477  0.004477  0.004477  0.000000       h2o,\n",
       " 4:          Fate  Number       Min       Max       Avg    Stdev injection\n",
       " 1  Evaporated   30335  0.001789  0.035000  0.010430  0.00000       h2o\n",
       " 2     inFluid   34176  0.002500  0.060000  0.027780  0.01756       h2o\n",
       " 3           5       1  0.004477  0.004477  0.004477  0.00000       h2o}"
      ]
     },
     "execution_count": 10,
     "metadata": {},
     "output_type": "execute_result"
    }
   ],
   "source": []
  },
  {
   "cell_type": "code",
   "execution_count": null,
   "metadata": {
    "scrolled": true
   },
   "outputs": [],
   "source": [
    "#zones = readers.read_zones('zones')\n",
    "#times, mass, totals = readers.dpm_reader('prueba.sum')"
   ]
  },
  {
   "cell_type": "code",
   "execution_count": null,
   "metadata": {},
   "outputs": [],
   "source": [
    "\n",
    "distresults = [mass, foo]\n",
    "distdict = dict(zip(distance, distresults))\n",
    "distdict\n",
    "\n",
    "instantsresults = [times,tfoo]\n",
    "timesdict = dict(zip(instants,instantsresults))"
   ]
  },
  {
   "cell_type": "code",
   "execution_count": null,
   "metadata": {
    "scrolled": true
   },
   "outputs": [],
   "source": [
    "times"
   ]
  },
  {
   "cell_type": "code",
   "execution_count": null,
   "metadata": {},
   "outputs": [],
   "source": [
    "mass"
   ]
  },
  {
   "cell_type": "code",
   "execution_count": null,
   "metadata": {},
   "outputs": [],
   "source": [
    "totals"
   ]
  },
  {
   "cell_type": "markdown",
   "metadata": {},
   "source": [
    "## Here we write our plotting code\n",
    "You access the data of the columns in dataframes by df['nameofcolumn'] where df is the name of your dataframe (times, zones, mass)"
   ]
  }
 ],
 "metadata": {
  "kernelspec": {
   "display_name": "Python 3",
   "language": "python",
   "name": "python3"
  },
  "language_info": {
   "codemirror_mode": {
    "name": "ipython",
    "version": 3
   },
   "file_extension": ".py",
   "mimetype": "text/x-python",
   "name": "python",
   "nbconvert_exporter": "python",
   "pygments_lexer": "ipython3",
   "version": "3.9.3"
  }
 },
 "nbformat": 4,
 "nbformat_minor": 4
}
