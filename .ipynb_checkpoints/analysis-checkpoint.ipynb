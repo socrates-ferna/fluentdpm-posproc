{
 "cells": [
  {
   "cell_type": "code",
   "execution_count": 1,
   "metadata": {},
   "outputs": [],
   "source": [
    "import readers\n",
    "from functions import plotagainstparam, percentage, read_results\n",
    "import pandas as pd\n",
    "import csv\n",
    "import matplotlib.pyplot as plt"
   ]
  },
  {
   "cell_type": "code",
   "execution_count": 2,
   "metadata": {},
   "outputs": [
    {
     "name": "stdout",
     "output_type": "stream",
     "text": [
      "READ_RESULTS INSTRUCTIONS\n",
      "----------------------------------------------\n",
      "\n",
      "    Reads a list of files named with the string 'casename' (the actual case name)\n",
      "    and with the extension of the parameter list passed.\n",
      "    \n",
      "    Requires the name of the file in which you can find the list of zones corresponding to the case\n",
      "    \n",
      "    Example: zones, timesdict, massdict, totalsdict = read_results('distance_','zones',distanceslist)\n",
      "    \n",
      "    Returns the dataframe for zones. A dictionary for the time summary and another for the mass summary both with the form:\n",
      "    dictname = {distanceslist[0]: dataframe_0,distanceslist[1]:dataframe_1, ... }\n",
      "    \n",
      "    So you access to the dataframe of the first element in the parameter list with dictname[distanceslist[0]], where\n",
      "    distanceslist[0] can be substituted for the actual value. Let's say it is 2, then timesdict[2] will return\n",
      "    the time summary for 2 metres between students\n",
      "    \n",
      "    \n",
      "-----------------------------------------------\n",
      "\n",
      "PERCENTAGE INSTRUCTIONS\n",
      "----------------------------------------------\n",
      "\n",
      "    Adds the percentage column with respect to the total passed.\n",
      "    \n",
      "    Usage: dataframe = percentage(dataframe, column,parameter,totalsdict)\n",
      "    \n",
      "    Example: timesdict[2] = percentage(timesdict[2],'Number',totalsdict[2])\n",
      "    The example calculates the percentage of 'Number' of particles that represent each row \n",
      "    of the data frame corresponding to the parameter value '2' with respect to the total number of particles injected\n",
      "    \n",
      "    The added column is the string 'column %'\n",
      "    \n",
      "-----------------------------------------------\n",
      "\n",
      "PLOT AGAINST PARAM INSTRUCTIONS\n",
      "----------------------------------------------\n",
      "\n",
      "    Plots the result of a percentage value across the studied parameter variation.\n",
      "    \n",
      "    Example: plotagainstparam(timesdict,'Particle %','student','xlabel','ylabel','legend name') will sum all % of particles\n",
      "    trapped by students in each dataframe of times dict and will plot that agains the variation\n",
      "    parameter (e.g. social distance in x-axis and % of particles in y-axis)\n",
      "    \n",
      "MATCHNAMES INSTRUCTIONS\n",
      "----------------------------------------------\n",
      "\n",
      "    Matches the names in the zones dataframe with the reported ids in the dpm-extended-summary,\n",
      "    then, it replaces the ids with the names to facilitate the labeling in plots\n",
      "    \n",
      "    Usage: dataframe, matchlist = matchnames(zones,dataframe)\n",
      "    \n"
     ]
    }
   ],
   "source": [
    "print('READ_RESULTS INSTRUCTIONS')\n",
    "print('----------------------------------------------')\n",
    "print(read_results.__doc__)\n",
    "print('-----------------------------------------------')\n",
    "print('')\n",
    "print('PERCENTAGE INSTRUCTIONS')\n",
    "print('----------------------------------------------')\n",
    "print(percentage.__doc__)\n",
    "print('-----------------------------------------------')\n",
    "print('')\n",
    "print('PLOT AGAINST PARAM INSTRUCTIONS')\n",
    "print('----------------------------------------------')\n",
    "print(plotagainstparam.__doc__)\n",
    "print('MATCHNAMES INSTRUCTIONS')\n",
    "print('----------------------------------------------')\n",
    "print(readers.matchnames.__doc__)"
   ]
  },
  {
   "cell_type": "code",
   "execution_count": 3,
   "metadata": {
    "tags": []
   },
   "outputs": [],
   "source": [
    "#Social distancing example study\n",
    "distance = [2,4]\n",
    "ncoughpeople = [1,2,4]\n",
    "renewalshour = [1,3,5]\n",
    "masks = ['No_mask', 'Mask']\n",
    "roomtemp = [288,298,308]\n",
    "exposuretime = [60,120,240]\n",
    "case = 'prueba_'"
   ]
  },
  {
   "cell_type": "code",
   "execution_count": 4,
   "metadata": {},
   "outputs": [
    {
     "name": "stdout",
     "output_type": "stream",
     "text": [
      "['2', 'unspecified', 'fluid', 'air', 'cell']\n",
      "['6', 'mouth_teacher', 'wall', 'air', 'face']\n",
      "['5', 'mouth_student', 'wall', 'air', 'face']\n",
      "['13', 'ventilation_outlet', 'mass-flow-outlet', 'dummy', 'face']\n",
      "['3', 'interior-unspecified', 'interior', 'dummy', 'face']\n",
      "['4', 'desk', 'wall', 'air', 'face']\n",
      "['7', 'room_ceiling', 'wall', 'air', 'face']\n",
      "['8', 'room_floor', 'wall', 'air', 'face']\n",
      "['9', 'room_walls', 'wall', 'air', 'face']\n",
      "['10', 'student', 'wall', 'air', 'face']\n",
      "['11', 'teacher', 'wall', 'air', 'face']\n",
      "['12', 'ventilation_inlet', 'mass-flow-inlet', 'dummy', 'face']\n",
      "Unconsidered Fate: ['----', '------', '----------']\n",
      "Unconsidered Fate: ['----', '------']\n",
      "Unconsidered Fate: ['Net', '77952']\n",
      "COUNTER IS 2\n",
      "ignore line []\n",
      "ignore line []\n",
      "ignore line ['Fate', 'Mass', '(kg)']\n",
      "ignore line ['Net', '1.305e-03', '3.855e-04', '-9.195e-04']\n",
      "finished reading\n",
      "Unconsidered Fate: ['----', '------', '----------']\n",
      "Unconsidered Fate: ['----', '------']\n",
      "Unconsidered Fate: ['Net', '64512']\n",
      "COUNTER IS 2\n",
      "ignore line []\n",
      "ignore line []\n",
      "ignore line ['Fate', 'Mass', '(kg)']\n",
      "ignore line ['Net', '1.080e-03', '3.338e-04', '-7.462e-04']\n",
      "finished reading\n"
     ]
    }
   ],
   "source": [
    "###SAMPLE IMPORT. RESULT ARE DICTIONARIES WITH THE DATAFRAMES INSIDE\n",
    "zones, timesdict, massdict, totalsdict = read_results(case, 'zones', distance)\n",
    "\n",
    "#zones, timesdict, massdict, totalsdict = read_results(case, 'zones', masks)\n",
    "\n",
    "#TO ACCESS THE DATAFRAME OF A CERTAIN PARAMETER: timesdict[parameterkey]\n",
    "#timesdict[2] is for 2 metre in the above import\n",
    "#massdict[4] is for 4 metre in the above import\n",
    "#you can pass the read_results function any of the parameter lists in the cell above"
   ]
  },
  {
   "cell_type": "code",
   "execution_count": 5,
   "metadata": {},
   "outputs": [
    {
     "ename": "KeyError",
     "evalue": "'Mask'",
     "output_type": "error",
     "traceback": [
      "\u001b[1;31m---------------------------------------------------------------------------\u001b[0m",
      "\u001b[1;31mKeyError\u001b[0m                                  Traceback (most recent call last)",
      "\u001b[1;32m<ipython-input-5-982a302c990f>\u001b[0m in \u001b[0;36m<module>\u001b[1;34m\u001b[0m\n\u001b[1;32m----> 1\u001b[1;33m \u001b[0mtimesdict\u001b[0m\u001b[1;33m[\u001b[0m\u001b[1;34m'Mask'\u001b[0m\u001b[1;33m]\u001b[0m\u001b[1;33m\u001b[0m\u001b[1;33m\u001b[0m\u001b[0m\n\u001b[0m",
      "\u001b[1;31mKeyError\u001b[0m: 'Mask'"
     ]
    }
   ],
   "source": [
    "timesdict['Mask']"
   ]
  },
  {
   "cell_type": "code",
   "execution_count": 6,
   "metadata": {},
   "outputs": [
    {
     "data": {
      "text/plain": [
       "{'Particles': 77952, 'Mass': 0.001305}"
      ]
     },
     "execution_count": 6,
     "metadata": {},
     "output_type": "execute_result"
    }
   ],
   "source": [
    "totalsdict[2]"
   ]
  },
  {
   "cell_type": "code",
   "execution_count": 7,
   "metadata": {},
   "outputs": [],
   "source": [
    "#timesdict['No_mask'] = percentage(timesdict['No_mask'],'Number','Particles',totalsdict['No_mask'])\n",
    "timesdict[2] = percentage(timesdict[2],'Number','Particles',totalsdict[2])"
   ]
  },
  {
   "cell_type": "code",
   "execution_count": 8,
   "metadata": {},
   "outputs": [
    {
     "data": {
      "text/html": [
       "<div>\n",
       "<style scoped>\n",
       "    .dataframe tbody tr th:only-of-type {\n",
       "        vertical-align: middle;\n",
       "    }\n",
       "\n",
       "    .dataframe tbody tr th {\n",
       "        vertical-align: top;\n",
       "    }\n",
       "\n",
       "    .dataframe thead th {\n",
       "        text-align: right;\n",
       "    }\n",
       "</style>\n",
       "<table border=\"1\" class=\"dataframe\">\n",
       "  <thead>\n",
       "    <tr style=\"text-align: right;\">\n",
       "      <th></th>\n",
       "      <th>Fate</th>\n",
       "      <th>Number</th>\n",
       "      <th>Min</th>\n",
       "      <th>Max</th>\n",
       "      <th>Avg</th>\n",
       "      <th>Stdev</th>\n",
       "      <th>injection</th>\n",
       "      <th>Particles %</th>\n",
       "    </tr>\n",
       "  </thead>\n",
       "  <tbody>\n",
       "    <tr>\n",
       "      <th>1</th>\n",
       "      <td>Evaporated</td>\n",
       "      <td>36479</td>\n",
       "      <td>0.001789</td>\n",
       "      <td>0.035000</td>\n",
       "      <td>0.010880</td>\n",
       "      <td>0.007135</td>\n",
       "      <td>h2o</td>\n",
       "      <td>46.796747</td>\n",
       "    </tr>\n",
       "    <tr>\n",
       "      <th>2</th>\n",
       "      <td>inFluid</td>\n",
       "      <td>41472</td>\n",
       "      <td>0.000000</td>\n",
       "      <td>0.070000</td>\n",
       "      <td>0.030250</td>\n",
       "      <td>0.021520</td>\n",
       "      <td>h2o</td>\n",
       "      <td>53.201970</td>\n",
       "    </tr>\n",
       "    <tr>\n",
       "      <th>3</th>\n",
       "      <td>6</td>\n",
       "      <td>1</td>\n",
       "      <td>0.004477</td>\n",
       "      <td>0.004477</td>\n",
       "      <td>0.004477</td>\n",
       "      <td>0.000000</td>\n",
       "      <td>h2o</td>\n",
       "      <td>0.001283</td>\n",
       "    </tr>\n",
       "  </tbody>\n",
       "</table>\n",
       "</div>"
      ],
      "text/plain": [
       "         Fate  Number       Min       Max       Avg     Stdev injection  \\\n",
       "1  Evaporated   36479  0.001789  0.035000  0.010880  0.007135       h2o   \n",
       "2     inFluid   41472  0.000000  0.070000  0.030250  0.021520       h2o   \n",
       "3           6       1  0.004477  0.004477  0.004477  0.000000       h2o   \n",
       "\n",
       "   Particles %  \n",
       "1    46.796747  \n",
       "2    53.201970  \n",
       "3     0.001283  "
      ]
     },
     "execution_count": 8,
     "metadata": {},
     "output_type": "execute_result"
    }
   ],
   "source": [
    "#timesdict['No_mask']\n",
    "timesdict[2]"
   ]
  },
  {
   "cell_type": "code",
   "execution_count": 9,
   "metadata": {},
   "outputs": [
    {
     "name": "stdout",
     "output_type": "stream",
     "text": [
      "1    0.010880\n",
      "2    0.030250\n",
      "3    0.004477\n",
      "Name: Avg, dtype: float64\n",
      "1    0.010880\n",
      "2    0.030250\n",
      "3    0.004477\n",
      "Name: Avg, dtype: float64\n",
      "1    36479\n",
      "2    41472\n",
      "3        1\n",
      "Name: Number, dtype: int64\n"
     ]
    }
   ],
   "source": [
    "print(timesdict[2].Avg)\n",
    "print(timesdict[2]['Avg'])\n",
    "print(timesdict[2]['Number'])"
   ]
  },
  {
   "cell_type": "code",
   "execution_count": 10,
   "metadata": {},
   "outputs": [
    {
     "name": "stdout",
     "output_type": "stream",
     "text": [
      "Particles %  already exists overwrite?\n"
     ]
    },
    {
     "name": "stdin",
     "output_type": "stream",
     "text": [
      "y/n y\n"
     ]
    }
   ],
   "source": [
    "for key,item in timesdict.items():\n",
    "    #we cannot use item as the dataframe to which apply the operation because item is a copy of the actual dataframe inside the dict\n",
    "    timesdict[key] = percentage(timesdict[key],'Number','Particles',totalsdict[key])\n",
    "    timesdict[key], _matchlist = readers.matchnames(zones,timesdict[key])"
   ]
  },
  {
   "cell_type": "code",
   "execution_count": 11,
   "metadata": {},
   "outputs": [
    {
     "data": {
      "text/plain": [
       "Text(0.5, 1.0, 'Trapped particles in %')"
      ]
     },
     "execution_count": 11,
     "metadata": {},
     "output_type": "execute_result"
    },
    {
     "data": {
      "image/png": "[encoded data removed]",
      "text/plain": [
       "<Figure size 432x288 with 1 Axes>"
      ]
     },
     "metadata": {
      "needs_background": "light"
     },
     "output_type": "display_data"
    }
   ],
   "source": [
    "plotagainstparam(timesdict,'Particles %','Fluid','Distance','Deposited particles in % of total','In Fluid')\n",
    "#plotagainstparam(timesdict,'Particles %','teacher','Distance','Deposited particles in % of total','On teacher')\n",
    "plt.title('Trapped particles in %')"
   ]
  },
  {
   "cell_type": "markdown",
   "metadata": {},
   "source": [
    "## Here we write our plotting code\n",
    "You access the data of the columns in dataframes by df['nameofcolumn'] where df is the name of your dataframe (times, zones, mass)"
   ]
  }
 ],
 "metadata": {
  "kernelspec": {
   "display_name": "Python 3",
   "language": "python",
   "name": "python3"
  },
  "language_info": {
   "codemirror_mode": {
    "name": "ipython",
    "version": 3
   },
   "file_extension": ".py",
   "mimetype": "text/x-python",
   "name": "python",
   "nbconvert_exporter": "python",
   "pygments_lexer": "ipython3",
   "version": "3.9.3"
  }
 },
 "nbformat": 4,
 "nbformat_minor": 4
}
