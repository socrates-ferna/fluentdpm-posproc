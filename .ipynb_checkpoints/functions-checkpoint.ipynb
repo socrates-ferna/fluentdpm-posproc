{
 "cells": [
  {
   "cell_type": "code",
   "execution_count": null,
   "id": "df45d2cc",
   "metadata": {},
   "outputs": [],
   "source": [
    "import matplotlib.pyplot as plt"
   ]
  },
  {
   "cell_type": "code",
   "execution_count": null,
   "id": "161ee2c5",
   "metadata": {},
   "outputs": [],
   "source": [
    "def plotagainstparam(resultdict,column,filterstring,xlab,ylab,leg):\n",
    "    \"\"\"\n",
    "    Plots the result of a percentage value across the studied parameter variation.\n",
    "    Example: plotagainstparam(timesdict,'Particle %','student') will sum all % of particles\n",
    "    trapped by students in each dataframe of times dict and will plot that agains the variation\n",
    "    parameter (e.g. social distance in x-axis and % of particles in y-axis)\n",
    "    \"\"\"\n",
    "    xlist = []\n",
    "    ylist = []\n",
    "    for param,df in resultdict.items():\n",
    "        #we sum all particles trapped in a surface\n",
    "        xlist.append(float(param))\n",
    "        ylist.append(df[column].loc[df.Fate.str.contains(fr\"{filterstring}\",regex=True)].sum())\n",
    "        \n",
    "    plt.plot(xlist,ylist,label=leg)\n",
    "    plt.xlabel(xlab)\n",
    "    plt.ylabel(ylab)\n",
    "    plt.legend()"
   ]
  },
  {
   "cell_type": "code",
   "execution_count": null,
   "id": "ce3a409d",
   "metadata": {},
   "outputs": [],
   "source": [
    "def percentage(df,column,param,totals):\n",
    "    newname = param + ' %'\n",
    "    if newname in df.columns:\n",
    "        print(newname,' already exists overwrite?')\n",
    "        #pending\n",
    "        input('y/n')\n",
    "        if input == 'y':\n",
    "            df[newname] = df[column] / totals[param] *100\n",
    "        elif input == 'n':\n",
    "            print('not overwriting, returned df is the same')\n",
    "        else:\n",
    "            print('inappropriate answer, \"no\" is understood')\n",
    "    else:\n",
    "        df[newname] = df[column] / totals[param] *100\n",
    "    return df"
   ]
  }
 ],
 "metadata": {
  "kernelspec": {
   "display_name": "Python 3",
   "language": "python",
   "name": "python3"
  },
  "language_info": {
   "codemirror_mode": {
    "name": "ipython",
    "version": 3
   },
   "file_extension": ".py",
   "mimetype": "text/x-python",
   "name": "python",
   "nbconvert_exporter": "python",
   "pygments_lexer": "ipython3",
   "version": "3.9.3"
  }
 },
 "nbformat": 4,
 "nbformat_minor": 5
}
